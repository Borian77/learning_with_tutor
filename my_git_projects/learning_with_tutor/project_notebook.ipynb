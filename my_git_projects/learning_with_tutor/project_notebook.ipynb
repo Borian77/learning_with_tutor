{
 "cells": [
  {
   "cell_type": "markdown",
   "metadata": {
    "toc": true
   },
   "source": [
    "<h1>Содержание<span class=\"tocSkip\"></span></h1>\n",
    "<div class=\"toc\"><ul class=\"toc-item\"><li><span><a href=\"#Подготовка-данных\" data-toc-modified-id=\"Подготовка-данных-1\"><span class=\"toc-item-num\">1&nbsp;&nbsp;</span>Подготовка данных</a></span></li><li><span><a href=\"#Исследование-задачи\" data-toc-modified-id=\"Исследование-задачи-2\"><span class=\"toc-item-num\">2&nbsp;&nbsp;</span>Исследование задачи</a></span></li><li><span><a href=\"#Борьба-с-дисбалансом\" data-toc-modified-id=\"Борьба-с-дисбалансом-3\"><span class=\"toc-item-num\">3&nbsp;&nbsp;</span>Борьба с дисбалансом</a></span></li><li><span><a href=\"#Тестирование-модели\" data-toc-modified-id=\"Тестирование-модели-4\"><span class=\"toc-item-num\">4&nbsp;&nbsp;</span>Тестирование модели</a></span></li><li><span><a href=\"#Чек-лист-готовности-проекта\" data-toc-modified-id=\"Чек-лист-готовности-проекта-5\"><span class=\"toc-item-num\">5&nbsp;&nbsp;</span>Чек-лист готовности проекта</a></span></li></ul></div>"
   ]
  },
  {
   "cell_type": "markdown",
   "metadata": {},
   "source": [
    "Ссылка на Github: https://github.com/Borian77/learning_with_tutor.git"
   ]
  },
  {
   "cell_type": "markdown",
   "metadata": {},
   "source": [
    "# Отток клиентов"
   ]
  },
  {
   "cell_type": "markdown",
   "metadata": {},
   "source": [
    "Из «Бета-Банка» стали уходить клиенты. Каждый месяц. Немного, но заметно. Банковские маркетологи посчитали: сохранять текущих клиентов дешевле, чем привлекать новых.\n",
    "\n",
    "Нужно спрогнозировать, уйдёт клиент из банка в ближайшее время или нет. Вам предоставлены исторические данные о поведении клиентов и расторжении договоров с банком. \n",
    "\n",
    "Постройте модель с предельно большим значением *F1*-меры. Чтобы сдать проект успешно, нужно довести метрику до 0.59. Проверьте *F1*-меру на тестовой выборке самостоятельно.\n",
    "\n",
    "Дополнительно измеряйте *AUC-ROC*, сравнивайте её значение с *F1*-мерой.\n",
    "\n",
    "Источник данных: [https://www.kaggle.com/barelydedicated/bank-customer-churn-modeling](https://www.kaggle.com/barelydedicated/bank-customer-churn-modeling)"
   ]
  },
  {
   "cell_type": "markdown",
   "metadata": {},
   "source": [
    "Порядок по выполнению проекта:  \n",
    "1. Загрузим и подготовим данные для дальнейшего исследования.  \n",
    "2. Исследуем баланс классов, обучим модель без учёта дисбаланса. Кратко опишем выводы.  \n",
    "3. Улучшим качество модели, учитывая дисбаланс классов. Обучим разные модели и найдем лучшую. Кратко опишем выводы.  \n",
    "4. Проведем финальное тестирование."
   ]
  },
  {
   "cell_type": "markdown",
   "metadata": {},
   "source": [
    "Данные:  \n",
    "Признаки:  \n",
    "- RowNumber — индекс строки в данных;  \n",
    "- CustomerId — уникальный идентификатор клиента;  \n",
    "- Surname — фамилия;  \n",
    "- CreditScore — кредитный рейтинг;  \n",
    "- Geography — страна проживания;  \n",
    "- Gender — пол;  \n",
    "- Age — возраст;  \n",
    "- Tenure — сколько лет человек является клиентом банка;  \n",
    "- Balance — баланс на счёте;  \n",
    "- NumOfProducts — количество продуктов банка, используемых клиентом;  \n",
    "- HasCrCard — наличие кредитной карты;  \n",
    "- IsActiveMember — активность клиента;  \n",
    "- EstimatedSalary — предполагаемая зарплата;  \n",
    "Целевой признак:\n",
    "- Exited — факт ухода клиента.  "
   ]
  },
  {
   "cell_type": "markdown",
   "metadata": {},
   "source": [
    "## Подготовка данных"
   ]
  },
  {
   "cell_type": "code",
   "execution_count": 1,
   "metadata": {},
   "outputs": [],
   "source": [
    "import pandas as pd\n",
    "import matplotlib.pyplot as plt\n",
    "import time\n",
    "\n",
    "from tqdm import tqdm\n",
    "from sklearn.preprocessing import MinMaxScaler\n",
    "from sklearn.utils import shuffle\n",
    "from sklearn.model_selection import train_test_split, GridSearchCV\n",
    "from sklearn.metrics import accuracy_score, f1_score, recall_score, precision_score, roc_auc_score, roc_curve, confusion_matrix, plot_confusion_matrix\n",
    "\n",
    "\n",
    "from sklearn.linear_model import LogisticRegression\n",
    "from sklearn.ensemble import RandomForestClassifier\n",
    "from sklearn.preprocessing import StandardScaler\n",
    "from sklearn.tree import DecisionTreeClassifier\n",
    "from sklearn.dummy import DummyClassifier\n",
    "\n",
    "\n",
    "import warnings\n",
    "warnings.filterwarnings(\"ignore\")"
   ]
  },
  {
   "cell_type": "code",
   "execution_count": 2,
   "metadata": {},
   "outputs": [],
   "source": [
    "df = pd.read_csv('/datasets/Churn.csv')"
   ]
  },
  {
   "cell_type": "code",
   "execution_count": 3,
   "metadata": {},
   "outputs": [
    {
     "data": {
      "text/html": [
       "<div>\n",
       "<style scoped>\n",
       "    .dataframe tbody tr th:only-of-type {\n",
       "        vertical-align: middle;\n",
       "    }\n",
       "\n",
       "    .dataframe tbody tr th {\n",
       "        vertical-align: top;\n",
       "    }\n",
       "\n",
       "    .dataframe thead th {\n",
       "        text-align: right;\n",
       "    }\n",
       "</style>\n",
       "<table border=\"1\" class=\"dataframe\">\n",
       "  <thead>\n",
       "    <tr style=\"text-align: right;\">\n",
       "      <th></th>\n",
       "      <th>RowNumber</th>\n",
       "      <th>CustomerId</th>\n",
       "      <th>Surname</th>\n",
       "      <th>CreditScore</th>\n",
       "      <th>Geography</th>\n",
       "      <th>Gender</th>\n",
       "      <th>Age</th>\n",
       "      <th>Tenure</th>\n",
       "      <th>Balance</th>\n",
       "      <th>NumOfProducts</th>\n",
       "      <th>HasCrCard</th>\n",
       "      <th>IsActiveMember</th>\n",
       "      <th>EstimatedSalary</th>\n",
       "      <th>Exited</th>\n",
       "    </tr>\n",
       "  </thead>\n",
       "  <tbody>\n",
       "    <tr>\n",
       "      <th>0</th>\n",
       "      <td>1</td>\n",
       "      <td>15634602</td>\n",
       "      <td>Hargrave</td>\n",
       "      <td>619</td>\n",
       "      <td>France</td>\n",
       "      <td>Female</td>\n",
       "      <td>42</td>\n",
       "      <td>2.0</td>\n",
       "      <td>0.00</td>\n",
       "      <td>1</td>\n",
       "      <td>1</td>\n",
       "      <td>1</td>\n",
       "      <td>101348.88</td>\n",
       "      <td>1</td>\n",
       "    </tr>\n",
       "    <tr>\n",
       "      <th>1</th>\n",
       "      <td>2</td>\n",
       "      <td>15647311</td>\n",
       "      <td>Hill</td>\n",
       "      <td>608</td>\n",
       "      <td>Spain</td>\n",
       "      <td>Female</td>\n",
       "      <td>41</td>\n",
       "      <td>1.0</td>\n",
       "      <td>83807.86</td>\n",
       "      <td>1</td>\n",
       "      <td>0</td>\n",
       "      <td>1</td>\n",
       "      <td>112542.58</td>\n",
       "      <td>0</td>\n",
       "    </tr>\n",
       "    <tr>\n",
       "      <th>2</th>\n",
       "      <td>3</td>\n",
       "      <td>15619304</td>\n",
       "      <td>Onio</td>\n",
       "      <td>502</td>\n",
       "      <td>France</td>\n",
       "      <td>Female</td>\n",
       "      <td>42</td>\n",
       "      <td>8.0</td>\n",
       "      <td>159660.80</td>\n",
       "      <td>3</td>\n",
       "      <td>1</td>\n",
       "      <td>0</td>\n",
       "      <td>113931.57</td>\n",
       "      <td>1</td>\n",
       "    </tr>\n",
       "    <tr>\n",
       "      <th>3</th>\n",
       "      <td>4</td>\n",
       "      <td>15701354</td>\n",
       "      <td>Boni</td>\n",
       "      <td>699</td>\n",
       "      <td>France</td>\n",
       "      <td>Female</td>\n",
       "      <td>39</td>\n",
       "      <td>1.0</td>\n",
       "      <td>0.00</td>\n",
       "      <td>2</td>\n",
       "      <td>0</td>\n",
       "      <td>0</td>\n",
       "      <td>93826.63</td>\n",
       "      <td>0</td>\n",
       "    </tr>\n",
       "    <tr>\n",
       "      <th>4</th>\n",
       "      <td>5</td>\n",
       "      <td>15737888</td>\n",
       "      <td>Mitchell</td>\n",
       "      <td>850</td>\n",
       "      <td>Spain</td>\n",
       "      <td>Female</td>\n",
       "      <td>43</td>\n",
       "      <td>2.0</td>\n",
       "      <td>125510.82</td>\n",
       "      <td>1</td>\n",
       "      <td>1</td>\n",
       "      <td>1</td>\n",
       "      <td>79084.10</td>\n",
       "      <td>0</td>\n",
       "    </tr>\n",
       "  </tbody>\n",
       "</table>\n",
       "</div>"
      ],
      "text/plain": [
       "   RowNumber  CustomerId   Surname  CreditScore Geography  Gender  Age  \\\n",
       "0          1    15634602  Hargrave          619    France  Female   42   \n",
       "1          2    15647311      Hill          608     Spain  Female   41   \n",
       "2          3    15619304      Onio          502    France  Female   42   \n",
       "3          4    15701354      Boni          699    France  Female   39   \n",
       "4          5    15737888  Mitchell          850     Spain  Female   43   \n",
       "\n",
       "   Tenure    Balance  NumOfProducts  HasCrCard  IsActiveMember  \\\n",
       "0     2.0       0.00              1          1               1   \n",
       "1     1.0   83807.86              1          0               1   \n",
       "2     8.0  159660.80              3          1               0   \n",
       "3     1.0       0.00              2          0               0   \n",
       "4     2.0  125510.82              1          1               1   \n",
       "\n",
       "   EstimatedSalary  Exited  \n",
       "0        101348.88       1  \n",
       "1        112542.58       0  \n",
       "2        113931.57       1  \n",
       "3         93826.63       0  \n",
       "4         79084.10       0  "
      ]
     },
     "execution_count": 3,
     "metadata": {},
     "output_type": "execute_result"
    }
   ],
   "source": [
    "#выведем первые 5 строк датафрейма\n",
    "df.head()"
   ]
  },
  {
   "cell_type": "code",
   "execution_count": 4,
   "metadata": {},
   "outputs": [
    {
     "name": "stdout",
     "output_type": "stream",
     "text": [
      "<class 'pandas.core.frame.DataFrame'>\n",
      "RangeIndex: 10000 entries, 0 to 9999\n",
      "Data columns (total 14 columns):\n",
      " #   Column           Non-Null Count  Dtype  \n",
      "---  ------           --------------  -----  \n",
      " 0   RowNumber        10000 non-null  int64  \n",
      " 1   CustomerId       10000 non-null  int64  \n",
      " 2   Surname          10000 non-null  object \n",
      " 3   CreditScore      10000 non-null  int64  \n",
      " 4   Geography        10000 non-null  object \n",
      " 5   Gender           10000 non-null  object \n",
      " 6   Age              10000 non-null  int64  \n",
      " 7   Tenure           9091 non-null   float64\n",
      " 8   Balance          10000 non-null  float64\n",
      " 9   NumOfProducts    10000 non-null  int64  \n",
      " 10  HasCrCard        10000 non-null  int64  \n",
      " 11  IsActiveMember   10000 non-null  int64  \n",
      " 12  EstimatedSalary  10000 non-null  float64\n",
      " 13  Exited           10000 non-null  int64  \n",
      "dtypes: float64(3), int64(8), object(3)\n",
      "memory usage: 1.1+ MB\n"
     ]
    }
   ],
   "source": [
    "#выведем общую информацию о датафрейме\n",
    "df.info()"
   ]
  },
  {
   "cell_type": "code",
   "execution_count": 5,
   "metadata": {},
   "outputs": [
    {
     "data": {
      "text/plain": [
       "array([ 2.,  1.,  8.,  7.,  4.,  6.,  3., 10.,  5.,  9.,  0., nan])"
      ]
     },
     "execution_count": 5,
     "metadata": {},
     "output_type": "execute_result"
    }
   ],
   "source": [
    "#видим, что есть пропуски в значении Tenure - количество лет, которое человек является клиентом банка\n",
    "df['Tenure'].unique()"
   ]
  },
  {
   "cell_type": "code",
   "execution_count": 6,
   "metadata": {},
   "outputs": [
    {
     "name": "stdout",
     "output_type": "stream",
     "text": [
      "<class 'pandas.core.frame.DataFrame'>\n",
      "Int64Index: 9091 entries, 0 to 9998\n",
      "Data columns (total 14 columns):\n",
      " #   Column           Non-Null Count  Dtype  \n",
      "---  ------           --------------  -----  \n",
      " 0   RowNumber        9091 non-null   int64  \n",
      " 1   CustomerId       9091 non-null   int64  \n",
      " 2   Surname          9091 non-null   object \n",
      " 3   CreditScore      9091 non-null   int64  \n",
      " 4   Geography        9091 non-null   object \n",
      " 5   Gender           9091 non-null   object \n",
      " 6   Age              9091 non-null   int64  \n",
      " 7   Tenure           9091 non-null   int64  \n",
      " 8   Balance          9091 non-null   float64\n",
      " 9   NumOfProducts    9091 non-null   int64  \n",
      " 10  HasCrCard        9091 non-null   int64  \n",
      " 11  IsActiveMember   9091 non-null   int64  \n",
      " 12  EstimatedSalary  9091 non-null   float64\n",
      " 13  Exited           9091 non-null   int64  \n",
      "dtypes: float64(2), int64(9), object(3)\n",
      "memory usage: 1.0+ MB\n"
     ]
    }
   ],
   "source": [
    "#видим, количество лет указывается целыми числами, преобразуем тип float64 в int64 и заполним пропуски нулевыми значениями\n",
    "df = df.dropna()\n",
    "df['Tenure'] = df['Tenure'].astype(int)\n",
    "df.info()"
   ]
  },
  {
   "cell_type": "code",
   "execution_count": 7,
   "metadata": {},
   "outputs": [
    {
     "data": {
      "text/plain": [
       "0"
      ]
     },
     "execution_count": 7,
     "metadata": {},
     "output_type": "execute_result"
    }
   ],
   "source": [
    "#Проверим на дубликаты\n",
    "df.duplicated().sum()"
   ]
  },
  {
   "cell_type": "markdown",
   "metadata": {},
   "source": [
    "На основании данных о клиентах нужно спрогнозировать, уйдёт клиент из банка в ближайшее время или нет.\n",
    "Соответственно:\n",
    "- Exited - это целевой признак;  \n",
    "- все остальные столбцы - это признаки, которые влияют на результат классификации.  \n",
    "Посмотрев на основную информацию о признаках, можно сказать, что One-Hot Encoding и масштабирование нужно применить точечно.  Дополнительно проверим уникальные значения для категориальных признаков, чтобы убедиться в том, что OHE к ним применять имеет смысл."
   ]
  },
  {
   "cell_type": "code",
   "execution_count": 8,
   "metadata": {},
   "outputs": [
    {
     "data": {
      "text/plain": [
       "array(['Female', 'Male'], dtype=object)"
      ]
     },
     "execution_count": 8,
     "metadata": {},
     "output_type": "execute_result"
    }
   ],
   "source": [
    "df.Gender.unique()"
   ]
  },
  {
   "cell_type": "code",
   "execution_count": 9,
   "metadata": {},
   "outputs": [
    {
     "data": {
      "text/plain": [
       "array(['France', 'Spain', 'Germany'], dtype=object)"
      ]
     },
     "execution_count": 9,
     "metadata": {},
     "output_type": "execute_result"
    }
   ],
   "source": [
    "df.Geography.unique()"
   ]
  },
  {
   "cell_type": "markdown",
   "metadata": {},
   "source": [
    "Вывод по шагу 1 \"Подготовка данных\":\n",
    "\n",
    "- RowNumber — столбец дублирует информацию стандартного датафрейма и не несетя ценности для обучения модели. Поэтому столбец можно удалить;  \n",
    "- CustomerId — является идентификатором пользователя (по данному столбцу значению необходимо проверить наличие дубликатов) и если отсутсвуют — стоблец также можно удалить;  \n",
    "- Surname — является идентифицирующей пользователя информацией, содержит 2932 уникальных значений (данные kaggle), что не несет ценности для качества будущей модели — столбец можно удалить;  \n",
    "- CreditScore — следует сохранить данный столбец;  \n",
    "- Geography — всего 3 уникальных значения 'France', 'Spain', 'Germany' — выполнить преобразование OHE / ordinal encoding;  \n",
    "- Gender — всего 2 уникальных значения 'Female', 'Male' — выполнить преобразование OHE / ordinal encoding;  \n",
    "- Age, Tenure, NumOfProducts, HasCrCard, IsActiveMember, Exited — типы данных верны.\n",
    "- CreditScore, Balance и EstimatedSalary - применить масштабирование, так как при обучении признак с более высоким значением может быть засчитан как более значимый."
   ]
  },
  {
   "cell_type": "markdown",
   "metadata": {},
   "source": [
    "## Исследование задачи"
   ]
  },
  {
   "cell_type": "code",
   "execution_count": 10,
   "metadata": {},
   "outputs": [
    {
     "data": {
      "text/html": [
       "<div>\n",
       "<style scoped>\n",
       "    .dataframe tbody tr th:only-of-type {\n",
       "        vertical-align: middle;\n",
       "    }\n",
       "\n",
       "    .dataframe tbody tr th {\n",
       "        vertical-align: top;\n",
       "    }\n",
       "\n",
       "    .dataframe thead th {\n",
       "        text-align: right;\n",
       "    }\n",
       "</style>\n",
       "<table border=\"1\" class=\"dataframe\">\n",
       "  <thead>\n",
       "    <tr style=\"text-align: right;\">\n",
       "      <th></th>\n",
       "      <th>CreditScore</th>\n",
       "      <th>Geography</th>\n",
       "      <th>Gender</th>\n",
       "      <th>Age</th>\n",
       "      <th>Tenure</th>\n",
       "      <th>Balance</th>\n",
       "      <th>NumOfProducts</th>\n",
       "      <th>HasCrCard</th>\n",
       "      <th>IsActiveMember</th>\n",
       "      <th>EstimatedSalary</th>\n",
       "      <th>Exited</th>\n",
       "    </tr>\n",
       "  </thead>\n",
       "  <tbody>\n",
       "    <tr>\n",
       "      <th>0</th>\n",
       "      <td>619</td>\n",
       "      <td>France</td>\n",
       "      <td>Female</td>\n",
       "      <td>42</td>\n",
       "      <td>2</td>\n",
       "      <td>0.00</td>\n",
       "      <td>1</td>\n",
       "      <td>1</td>\n",
       "      <td>1</td>\n",
       "      <td>101348.88</td>\n",
       "      <td>1</td>\n",
       "    </tr>\n",
       "    <tr>\n",
       "      <th>1</th>\n",
       "      <td>608</td>\n",
       "      <td>Spain</td>\n",
       "      <td>Female</td>\n",
       "      <td>41</td>\n",
       "      <td>1</td>\n",
       "      <td>83807.86</td>\n",
       "      <td>1</td>\n",
       "      <td>0</td>\n",
       "      <td>1</td>\n",
       "      <td>112542.58</td>\n",
       "      <td>0</td>\n",
       "    </tr>\n",
       "    <tr>\n",
       "      <th>2</th>\n",
       "      <td>502</td>\n",
       "      <td>France</td>\n",
       "      <td>Female</td>\n",
       "      <td>42</td>\n",
       "      <td>8</td>\n",
       "      <td>159660.80</td>\n",
       "      <td>3</td>\n",
       "      <td>1</td>\n",
       "      <td>0</td>\n",
       "      <td>113931.57</td>\n",
       "      <td>1</td>\n",
       "    </tr>\n",
       "    <tr>\n",
       "      <th>3</th>\n",
       "      <td>699</td>\n",
       "      <td>France</td>\n",
       "      <td>Female</td>\n",
       "      <td>39</td>\n",
       "      <td>1</td>\n",
       "      <td>0.00</td>\n",
       "      <td>2</td>\n",
       "      <td>0</td>\n",
       "      <td>0</td>\n",
       "      <td>93826.63</td>\n",
       "      <td>0</td>\n",
       "    </tr>\n",
       "    <tr>\n",
       "      <th>4</th>\n",
       "      <td>850</td>\n",
       "      <td>Spain</td>\n",
       "      <td>Female</td>\n",
       "      <td>43</td>\n",
       "      <td>2</td>\n",
       "      <td>125510.82</td>\n",
       "      <td>1</td>\n",
       "      <td>1</td>\n",
       "      <td>1</td>\n",
       "      <td>79084.10</td>\n",
       "      <td>0</td>\n",
       "    </tr>\n",
       "  </tbody>\n",
       "</table>\n",
       "</div>"
      ],
      "text/plain": [
       "   CreditScore Geography  Gender  Age  Tenure    Balance  NumOfProducts  \\\n",
       "0          619    France  Female   42       2       0.00              1   \n",
       "1          608     Spain  Female   41       1   83807.86              1   \n",
       "2          502    France  Female   42       8  159660.80              3   \n",
       "3          699    France  Female   39       1       0.00              2   \n",
       "4          850     Spain  Female   43       2  125510.82              1   \n",
       "\n",
       "   HasCrCard  IsActiveMember  EstimatedSalary  Exited  \n",
       "0          1               1        101348.88       1  \n",
       "1          0               1        112542.58       0  \n",
       "2          1               0        113931.57       1  \n",
       "3          0               0         93826.63       0  \n",
       "4          1               1         79084.10       0  "
      ]
     },
     "execution_count": 10,
     "metadata": {},
     "output_type": "execute_result"
    }
   ],
   "source": [
    "#Обозначим новый датафрейм \"data_ml\" — данные для машинного обучения, удалим столбцы-идентификаторы, не представляющие ценностия для алгоритма \n",
    "df_ml = df.drop(['RowNumber','CustomerId', 'Surname'], axis=1)\n",
    "df_ml.head()"
   ]
  },
  {
   "cell_type": "code",
   "execution_count": 11,
   "metadata": {},
   "outputs": [
    {
     "data": {
      "text/html": [
       "<div>\n",
       "<style scoped>\n",
       "    .dataframe tbody tr th:only-of-type {\n",
       "        vertical-align: middle;\n",
       "    }\n",
       "\n",
       "    .dataframe tbody tr th {\n",
       "        vertical-align: top;\n",
       "    }\n",
       "\n",
       "    .dataframe thead th {\n",
       "        text-align: right;\n",
       "    }\n",
       "</style>\n",
       "<table border=\"1\" class=\"dataframe\">\n",
       "  <thead>\n",
       "    <tr style=\"text-align: right;\">\n",
       "      <th></th>\n",
       "      <th>CreditScore</th>\n",
       "      <th>Age</th>\n",
       "      <th>Tenure</th>\n",
       "      <th>Balance</th>\n",
       "      <th>NumOfProducts</th>\n",
       "      <th>HasCrCard</th>\n",
       "      <th>IsActiveMember</th>\n",
       "      <th>EstimatedSalary</th>\n",
       "      <th>Exited</th>\n",
       "      <th>Geography_Germany</th>\n",
       "      <th>Geography_Spain</th>\n",
       "      <th>Gender_Male</th>\n",
       "    </tr>\n",
       "  </thead>\n",
       "  <tbody>\n",
       "    <tr>\n",
       "      <th>0</th>\n",
       "      <td>619</td>\n",
       "      <td>42</td>\n",
       "      <td>2</td>\n",
       "      <td>0.00</td>\n",
       "      <td>1</td>\n",
       "      <td>1</td>\n",
       "      <td>1</td>\n",
       "      <td>101348.88</td>\n",
       "      <td>1</td>\n",
       "      <td>0</td>\n",
       "      <td>0</td>\n",
       "      <td>0</td>\n",
       "    </tr>\n",
       "    <tr>\n",
       "      <th>1</th>\n",
       "      <td>608</td>\n",
       "      <td>41</td>\n",
       "      <td>1</td>\n",
       "      <td>83807.86</td>\n",
       "      <td>1</td>\n",
       "      <td>0</td>\n",
       "      <td>1</td>\n",
       "      <td>112542.58</td>\n",
       "      <td>0</td>\n",
       "      <td>0</td>\n",
       "      <td>1</td>\n",
       "      <td>0</td>\n",
       "    </tr>\n",
       "    <tr>\n",
       "      <th>2</th>\n",
       "      <td>502</td>\n",
       "      <td>42</td>\n",
       "      <td>8</td>\n",
       "      <td>159660.80</td>\n",
       "      <td>3</td>\n",
       "      <td>1</td>\n",
       "      <td>0</td>\n",
       "      <td>113931.57</td>\n",
       "      <td>1</td>\n",
       "      <td>0</td>\n",
       "      <td>0</td>\n",
       "      <td>0</td>\n",
       "    </tr>\n",
       "    <tr>\n",
       "      <th>3</th>\n",
       "      <td>699</td>\n",
       "      <td>39</td>\n",
       "      <td>1</td>\n",
       "      <td>0.00</td>\n",
       "      <td>2</td>\n",
       "      <td>0</td>\n",
       "      <td>0</td>\n",
       "      <td>93826.63</td>\n",
       "      <td>0</td>\n",
       "      <td>0</td>\n",
       "      <td>0</td>\n",
       "      <td>0</td>\n",
       "    </tr>\n",
       "    <tr>\n",
       "      <th>4</th>\n",
       "      <td>850</td>\n",
       "      <td>43</td>\n",
       "      <td>2</td>\n",
       "      <td>125510.82</td>\n",
       "      <td>1</td>\n",
       "      <td>1</td>\n",
       "      <td>1</td>\n",
       "      <td>79084.10</td>\n",
       "      <td>0</td>\n",
       "      <td>0</td>\n",
       "      <td>1</td>\n",
       "      <td>0</td>\n",
       "    </tr>\n",
       "  </tbody>\n",
       "</table>\n",
       "</div>"
      ],
      "text/plain": [
       "   CreditScore  Age  Tenure    Balance  NumOfProducts  HasCrCard  \\\n",
       "0          619   42       2       0.00              1          1   \n",
       "1          608   41       1   83807.86              1          0   \n",
       "2          502   42       8  159660.80              3          1   \n",
       "3          699   39       1       0.00              2          0   \n",
       "4          850   43       2  125510.82              1          1   \n",
       "\n",
       "   IsActiveMember  EstimatedSalary  Exited  Geography_Germany  \\\n",
       "0               1        101348.88       1                  0   \n",
       "1               1        112542.58       0                  0   \n",
       "2               0        113931.57       1                  0   \n",
       "3               0         93826.63       0                  0   \n",
       "4               1         79084.10       0                  0   \n",
       "\n",
       "   Geography_Spain  Gender_Male  \n",
       "0                0            0  \n",
       "1                1            0  \n",
       "2                0            0  \n",
       "3                0            0  \n",
       "4                1            0  "
      ]
     },
     "execution_count": 11,
     "metadata": {},
     "output_type": "execute_result"
    }
   ],
   "source": [
    "# Данные подготовим методом OHE, что позволит нам использовать разные модели и не словить дамми-ловушку\n",
    "df_ml = pd.get_dummies(df_ml, drop_first=True)\n",
    "df_ml.head()"
   ]
  },
  {
   "cell_type": "code",
   "execution_count": 12,
   "metadata": {},
   "outputs": [
    {
     "data": {
      "text/plain": [
       "(9091, 12)"
      ]
     },
     "execution_count": 12,
     "metadata": {},
     "output_type": "execute_result"
    }
   ],
   "source": [
    "df_ml.shape"
   ]
  },
  {
   "cell_type": "markdown",
   "metadata": {},
   "source": [
    "Вывод: в новом датафрейме количество столбцов увеличелост на 1 (стало 12) Столбец Geography содержал 3 класса, Gender_Male 2 класса — в результате мы получили только 2 и 1 столбцов соответственно, что позволяет избежать дамми-ловушки."
   ]
  },
  {
   "cell_type": "markdown",
   "metadata": {},
   "source": [
    "Сформируем выборки в следующем соотношении:  \n",
    "обучающая - 0.6, валидационная - 0.2, тестовая - 0.2"
   ]
  },
  {
   "cell_type": "code",
   "execution_count": 13,
   "metadata": {},
   "outputs": [],
   "source": [
    "#Разделим на признаки и целевой признак\n",
    "features = df_ml.drop('Exited', axis=1)\n",
    "target = df_ml['Exited']\n",
    "#Обучающая 60%\n",
    "features_train, features_validtest, target_train, target_validtest = train_test_split(features, target, train_size=0.6, \n",
    "                                                                                      random_state=12345)\n",
    "#Валидационная и тестовая соответственно поровну по 20% от общей\n",
    "features_valid, features_test, target_valid, target_test = train_test_split(features_validtest, target_validtest, \n",
    "                                                                            train_size=0.5, random_state=12345)\n"
   ]
  },
  {
   "cell_type": "markdown",
   "metadata": {},
   "source": [
    "Вывод: были создана выборки:  \n",
    "- Обучающая: features_train, target_train;  \n",
    "- Валидационная: features_valid, target_valid;  \n",
    "- Тестовая: features_test, target_test."
   ]
  },
  {
   "cell_type": "code",
   "execution_count": 14,
   "metadata": {},
   "outputs": [
    {
     "data": {
      "text/plain": [
       "(5454, 11)"
      ]
     },
     "execution_count": 14,
     "metadata": {},
     "output_type": "execute_result"
    }
   ],
   "source": [
    "features_train.shape"
   ]
  },
  {
   "cell_type": "code",
   "execution_count": 15,
   "metadata": {},
   "outputs": [
    {
     "data": {
      "text/plain": [
       "(1818, 11)"
      ]
     },
     "execution_count": 15,
     "metadata": {},
     "output_type": "execute_result"
    }
   ],
   "source": [
    "features_valid.shape"
   ]
  },
  {
   "cell_type": "code",
   "execution_count": 16,
   "metadata": {},
   "outputs": [
    {
     "data": {
      "text/plain": [
       "(1819, 11)"
      ]
     },
     "execution_count": 16,
     "metadata": {},
     "output_type": "execute_result"
    }
   ],
   "source": [
    "features_test.shape"
   ]
  },
  {
   "cell_type": "code",
   "execution_count": 17,
   "metadata": {},
   "outputs": [
    {
     "data": {
      "text/html": [
       "<div>\n",
       "<style scoped>\n",
       "    .dataframe tbody tr th:only-of-type {\n",
       "        vertical-align: middle;\n",
       "    }\n",
       "\n",
       "    .dataframe tbody tr th {\n",
       "        vertical-align: top;\n",
       "    }\n",
       "\n",
       "    .dataframe thead th {\n",
       "        text-align: right;\n",
       "    }\n",
       "</style>\n",
       "<table border=\"1\" class=\"dataframe\">\n",
       "  <thead>\n",
       "    <tr style=\"text-align: right;\">\n",
       "      <th></th>\n",
       "      <th>CreditScore</th>\n",
       "      <th>Age</th>\n",
       "      <th>Tenure</th>\n",
       "      <th>Balance</th>\n",
       "      <th>NumOfProducts</th>\n",
       "      <th>HasCrCard</th>\n",
       "      <th>IsActiveMember</th>\n",
       "      <th>EstimatedSalary</th>\n",
       "      <th>Geography_Germany</th>\n",
       "      <th>Geography_Spain</th>\n",
       "      <th>Gender_Male</th>\n",
       "    </tr>\n",
       "  </thead>\n",
       "  <tbody>\n",
       "    <tr>\n",
       "      <th>9344</th>\n",
       "      <td>727</td>\n",
       "      <td>28</td>\n",
       "      <td>2</td>\n",
       "      <td>110997.76</td>\n",
       "      <td>1</td>\n",
       "      <td>1</td>\n",
       "      <td>0</td>\n",
       "      <td>101433.76</td>\n",
       "      <td>0</td>\n",
       "      <td>0</td>\n",
       "      <td>0</td>\n",
       "    </tr>\n",
       "    <tr>\n",
       "      <th>3796</th>\n",
       "      <td>537</td>\n",
       "      <td>26</td>\n",
       "      <td>7</td>\n",
       "      <td>106397.75</td>\n",
       "      <td>1</td>\n",
       "      <td>0</td>\n",
       "      <td>0</td>\n",
       "      <td>103563.23</td>\n",
       "      <td>0</td>\n",
       "      <td>0</td>\n",
       "      <td>1</td>\n",
       "    </tr>\n",
       "    <tr>\n",
       "      <th>7462</th>\n",
       "      <td>610</td>\n",
       "      <td>40</td>\n",
       "      <td>9</td>\n",
       "      <td>0.00</td>\n",
       "      <td>1</td>\n",
       "      <td>1</td>\n",
       "      <td>1</td>\n",
       "      <td>149602.54</td>\n",
       "      <td>0</td>\n",
       "      <td>0</td>\n",
       "      <td>1</td>\n",
       "    </tr>\n",
       "    <tr>\n",
       "      <th>1508</th>\n",
       "      <td>576</td>\n",
       "      <td>36</td>\n",
       "      <td>6</td>\n",
       "      <td>0.00</td>\n",
       "      <td>2</td>\n",
       "      <td>1</td>\n",
       "      <td>1</td>\n",
       "      <td>48314.00</td>\n",
       "      <td>0</td>\n",
       "      <td>0</td>\n",
       "      <td>1</td>\n",
       "    </tr>\n",
       "    <tr>\n",
       "      <th>4478</th>\n",
       "      <td>549</td>\n",
       "      <td>31</td>\n",
       "      <td>4</td>\n",
       "      <td>0.00</td>\n",
       "      <td>2</td>\n",
       "      <td>0</td>\n",
       "      <td>1</td>\n",
       "      <td>25684.85</td>\n",
       "      <td>0</td>\n",
       "      <td>0</td>\n",
       "      <td>1</td>\n",
       "    </tr>\n",
       "  </tbody>\n",
       "</table>\n",
       "</div>"
      ],
      "text/plain": [
       "      CreditScore  Age  Tenure    Balance  NumOfProducts  HasCrCard  \\\n",
       "9344          727   28       2  110997.76              1          1   \n",
       "3796          537   26       7  106397.75              1          0   \n",
       "7462          610   40       9       0.00              1          1   \n",
       "1508          576   36       6       0.00              2          1   \n",
       "4478          549   31       4       0.00              2          0   \n",
       "\n",
       "      IsActiveMember  EstimatedSalary  Geography_Germany  Geography_Spain  \\\n",
       "9344               0        101433.76                  0                0   \n",
       "3796               0        103563.23                  0                0   \n",
       "7462               1        149602.54                  0                0   \n",
       "1508               1         48314.00                  0                0   \n",
       "4478               1         25684.85                  0                0   \n",
       "\n",
       "      Gender_Male  \n",
       "9344            0  \n",
       "3796            1  \n",
       "7462            1  \n",
       "1508            1  \n",
       "4478            1  "
      ]
     },
     "execution_count": 17,
     "metadata": {},
     "output_type": "execute_result"
    }
   ],
   "source": [
    "features_train.head()"
   ]
  },
  {
   "cell_type": "code",
   "execution_count": 18,
   "metadata": {},
   "outputs": [],
   "source": [
    "#Для масштабирования методом scaler зафиксируем численные признаки\n",
    "numeric = ['CreditScore', 'Age', 'Tenure', 'Balance', 'NumOfProducts', 'EstimatedSalary']"
   ]
  },
  {
   "cell_type": "code",
   "execution_count": 19,
   "metadata": {},
   "outputs": [
    {
     "data": {
      "text/plain": [
       "StandardScaler()"
      ]
     },
     "execution_count": 19,
     "metadata": {},
     "output_type": "execute_result"
    }
   ],
   "source": [
    "scaler = StandardScaler()\n",
    "scaler.fit(features_train[numeric])"
   ]
  },
  {
   "cell_type": "code",
   "execution_count": 20,
   "metadata": {},
   "outputs": [
    {
     "data": {
      "text/html": [
       "<div>\n",
       "<style scoped>\n",
       "    .dataframe tbody tr th:only-of-type {\n",
       "        vertical-align: middle;\n",
       "    }\n",
       "\n",
       "    .dataframe tbody tr th {\n",
       "        vertical-align: top;\n",
       "    }\n",
       "\n",
       "    .dataframe thead th {\n",
       "        text-align: right;\n",
       "    }\n",
       "</style>\n",
       "<table border=\"1\" class=\"dataframe\">\n",
       "  <thead>\n",
       "    <tr style=\"text-align: right;\">\n",
       "      <th></th>\n",
       "      <th>CreditScore</th>\n",
       "      <th>Age</th>\n",
       "      <th>Tenure</th>\n",
       "      <th>Balance</th>\n",
       "      <th>NumOfProducts</th>\n",
       "      <th>HasCrCard</th>\n",
       "      <th>IsActiveMember</th>\n",
       "      <th>EstimatedSalary</th>\n",
       "      <th>Geography_Germany</th>\n",
       "      <th>Geography_Spain</th>\n",
       "      <th>Gender_Male</th>\n",
       "    </tr>\n",
       "  </thead>\n",
       "  <tbody>\n",
       "    <tr>\n",
       "      <th>9344</th>\n",
       "      <td>0.809075</td>\n",
       "      <td>-1.039327</td>\n",
       "      <td>-1.025995</td>\n",
       "      <td>0.554904</td>\n",
       "      <td>-0.908179</td>\n",
       "      <td>1</td>\n",
       "      <td>0</td>\n",
       "      <td>0.019508</td>\n",
       "      <td>0</td>\n",
       "      <td>0</td>\n",
       "      <td>0</td>\n",
       "    </tr>\n",
       "    <tr>\n",
       "      <th>3796</th>\n",
       "      <td>-1.152518</td>\n",
       "      <td>-1.227561</td>\n",
       "      <td>0.696524</td>\n",
       "      <td>0.480609</td>\n",
       "      <td>-0.908179</td>\n",
       "      <td>0</td>\n",
       "      <td>0</td>\n",
       "      <td>0.056167</td>\n",
       "      <td>0</td>\n",
       "      <td>0</td>\n",
       "      <td>1</td>\n",
       "    </tr>\n",
       "    <tr>\n",
       "      <th>7462</th>\n",
       "      <td>-0.398853</td>\n",
       "      <td>0.090079</td>\n",
       "      <td>1.385532</td>\n",
       "      <td>-1.237830</td>\n",
       "      <td>-0.908179</td>\n",
       "      <td>1</td>\n",
       "      <td>1</td>\n",
       "      <td>0.848738</td>\n",
       "      <td>0</td>\n",
       "      <td>0</td>\n",
       "      <td>1</td>\n",
       "    </tr>\n",
       "    <tr>\n",
       "      <th>1508</th>\n",
       "      <td>-0.749875</td>\n",
       "      <td>-0.286389</td>\n",
       "      <td>0.352020</td>\n",
       "      <td>-1.237830</td>\n",
       "      <td>0.809300</td>\n",
       "      <td>1</td>\n",
       "      <td>1</td>\n",
       "      <td>-0.894953</td>\n",
       "      <td>0</td>\n",
       "      <td>0</td>\n",
       "      <td>1</td>\n",
       "    </tr>\n",
       "    <tr>\n",
       "      <th>4478</th>\n",
       "      <td>-1.028628</td>\n",
       "      <td>-0.756975</td>\n",
       "      <td>-0.336987</td>\n",
       "      <td>-1.237830</td>\n",
       "      <td>0.809300</td>\n",
       "      <td>0</td>\n",
       "      <td>1</td>\n",
       "      <td>-1.284516</td>\n",
       "      <td>0</td>\n",
       "      <td>0</td>\n",
       "      <td>1</td>\n",
       "    </tr>\n",
       "  </tbody>\n",
       "</table>\n",
       "</div>"
      ],
      "text/plain": [
       "      CreditScore       Age    Tenure   Balance  NumOfProducts  HasCrCard  \\\n",
       "9344     0.809075 -1.039327 -1.025995  0.554904      -0.908179          1   \n",
       "3796    -1.152518 -1.227561  0.696524  0.480609      -0.908179          0   \n",
       "7462    -0.398853  0.090079  1.385532 -1.237830      -0.908179          1   \n",
       "1508    -0.749875 -0.286389  0.352020 -1.237830       0.809300          1   \n",
       "4478    -1.028628 -0.756975 -0.336987 -1.237830       0.809300          0   \n",
       "\n",
       "      IsActiveMember  EstimatedSalary  Geography_Germany  Geography_Spain  \\\n",
       "9344               0         0.019508                  0                0   \n",
       "3796               0         0.056167                  0                0   \n",
       "7462               1         0.848738                  0                0   \n",
       "1508               1        -0.894953                  0                0   \n",
       "4478               1        -1.284516                  0                0   \n",
       "\n",
       "      Gender_Male  \n",
       "9344            0  \n",
       "3796            1  \n",
       "7462            1  \n",
       "1508            1  \n",
       "4478            1  "
      ]
     },
     "execution_count": 20,
     "metadata": {},
     "output_type": "execute_result"
    }
   ],
   "source": [
    "#Масштабируем численные признаки обучающей выборки\n",
    "features_train[numeric] = scaler.transform(features_train[numeric])\n",
    "features_train.head()"
   ]
  },
  {
   "cell_type": "code",
   "execution_count": 21,
   "metadata": {},
   "outputs": [
    {
     "data": {
      "text/html": [
       "<div>\n",
       "<style scoped>\n",
       "    .dataframe tbody tr th:only-of-type {\n",
       "        vertical-align: middle;\n",
       "    }\n",
       "\n",
       "    .dataframe tbody tr th {\n",
       "        vertical-align: top;\n",
       "    }\n",
       "\n",
       "    .dataframe thead th {\n",
       "        text-align: right;\n",
       "    }\n",
       "</style>\n",
       "<table border=\"1\" class=\"dataframe\">\n",
       "  <thead>\n",
       "    <tr style=\"text-align: right;\">\n",
       "      <th></th>\n",
       "      <th>CreditScore</th>\n",
       "      <th>Age</th>\n",
       "      <th>Tenure</th>\n",
       "      <th>Balance</th>\n",
       "      <th>NumOfProducts</th>\n",
       "      <th>HasCrCard</th>\n",
       "      <th>IsActiveMember</th>\n",
       "      <th>EstimatedSalary</th>\n",
       "      <th>Geography_Germany</th>\n",
       "      <th>Geography_Spain</th>\n",
       "      <th>Gender_Male</th>\n",
       "    </tr>\n",
       "  </thead>\n",
       "  <tbody>\n",
       "    <tr>\n",
       "      <th>7445</th>\n",
       "      <td>-1.369326</td>\n",
       "      <td>0.560665</td>\n",
       "      <td>-0.336987</td>\n",
       "      <td>-1.237830</td>\n",
       "      <td>-0.908179</td>\n",
       "      <td>1</td>\n",
       "      <td>0</td>\n",
       "      <td>-0.086537</td>\n",
       "      <td>0</td>\n",
       "      <td>0</td>\n",
       "      <td>0</td>\n",
       "    </tr>\n",
       "    <tr>\n",
       "      <th>8620</th>\n",
       "      <td>1.232367</td>\n",
       "      <td>0.090079</td>\n",
       "      <td>1.041028</td>\n",
       "      <td>-1.237830</td>\n",
       "      <td>0.809300</td>\n",
       "      <td>0</td>\n",
       "      <td>1</td>\n",
       "      <td>-0.537457</td>\n",
       "      <td>0</td>\n",
       "      <td>0</td>\n",
       "      <td>0</td>\n",
       "    </tr>\n",
       "    <tr>\n",
       "      <th>1714</th>\n",
       "      <td>0.840048</td>\n",
       "      <td>0.560665</td>\n",
       "      <td>0.352020</td>\n",
       "      <td>1.231363</td>\n",
       "      <td>-0.908179</td>\n",
       "      <td>0</td>\n",
       "      <td>0</td>\n",
       "      <td>1.070393</td>\n",
       "      <td>1</td>\n",
       "      <td>0</td>\n",
       "      <td>1</td>\n",
       "    </tr>\n",
       "    <tr>\n",
       "      <th>5441</th>\n",
       "      <td>1.056856</td>\n",
       "      <td>-0.945210</td>\n",
       "      <td>-1.370498</td>\n",
       "      <td>0.951231</td>\n",
       "      <td>-0.908179</td>\n",
       "      <td>1</td>\n",
       "      <td>0</td>\n",
       "      <td>-0.576279</td>\n",
       "      <td>0</td>\n",
       "      <td>0</td>\n",
       "      <td>1</td>\n",
       "    </tr>\n",
       "    <tr>\n",
       "      <th>9001</th>\n",
       "      <td>0.406433</td>\n",
       "      <td>-0.662858</td>\n",
       "      <td>0.352020</td>\n",
       "      <td>0.767800</td>\n",
       "      <td>-0.908179</td>\n",
       "      <td>1</td>\n",
       "      <td>1</td>\n",
       "      <td>0.662068</td>\n",
       "      <td>0</td>\n",
       "      <td>1</td>\n",
       "      <td>1</td>\n",
       "    </tr>\n",
       "  </tbody>\n",
       "</table>\n",
       "</div>"
      ],
      "text/plain": [
       "      CreditScore       Age    Tenure   Balance  NumOfProducts  HasCrCard  \\\n",
       "7445    -1.369326  0.560665 -0.336987 -1.237830      -0.908179          1   \n",
       "8620     1.232367  0.090079  1.041028 -1.237830       0.809300          0   \n",
       "1714     0.840048  0.560665  0.352020  1.231363      -0.908179          0   \n",
       "5441     1.056856 -0.945210 -1.370498  0.951231      -0.908179          1   \n",
       "9001     0.406433 -0.662858  0.352020  0.767800      -0.908179          1   \n",
       "\n",
       "      IsActiveMember  EstimatedSalary  Geography_Germany  Geography_Spain  \\\n",
       "7445               0        -0.086537                  0                0   \n",
       "8620               1        -0.537457                  0                0   \n",
       "1714               0         1.070393                  1                0   \n",
       "5441               0        -0.576279                  0                0   \n",
       "9001               1         0.662068                  0                1   \n",
       "\n",
       "      Gender_Male  \n",
       "7445            0  \n",
       "8620            0  \n",
       "1714            1  \n",
       "5441            1  \n",
       "9001            1  "
      ]
     },
     "execution_count": 21,
     "metadata": {},
     "output_type": "execute_result"
    }
   ],
   "source": [
    "#Масштабируем численные признаки валидационной выборки \n",
    "features_valid[numeric] = scaler.transform(features_valid[numeric])\n",
    "features_valid.head()"
   ]
  },
  {
   "cell_type": "code",
   "execution_count": 22,
   "metadata": {},
   "outputs": [
    {
     "data": {
      "text/html": [
       "<div>\n",
       "<style scoped>\n",
       "    .dataframe tbody tr th:only-of-type {\n",
       "        vertical-align: middle;\n",
       "    }\n",
       "\n",
       "    .dataframe tbody tr th {\n",
       "        vertical-align: top;\n",
       "    }\n",
       "\n",
       "    .dataframe thead th {\n",
       "        text-align: right;\n",
       "    }\n",
       "</style>\n",
       "<table border=\"1\" class=\"dataframe\">\n",
       "  <thead>\n",
       "    <tr style=\"text-align: right;\">\n",
       "      <th></th>\n",
       "      <th>CreditScore</th>\n",
       "      <th>Age</th>\n",
       "      <th>Tenure</th>\n",
       "      <th>Balance</th>\n",
       "      <th>NumOfProducts</th>\n",
       "      <th>HasCrCard</th>\n",
       "      <th>IsActiveMember</th>\n",
       "      <th>EstimatedSalary</th>\n",
       "      <th>Geography_Germany</th>\n",
       "      <th>Geography_Spain</th>\n",
       "      <th>Gender_Male</th>\n",
       "    </tr>\n",
       "  </thead>\n",
       "  <tbody>\n",
       "    <tr>\n",
       "      <th>5170</th>\n",
       "      <td>1.707279</td>\n",
       "      <td>-0.756975</td>\n",
       "      <td>-0.336987</td>\n",
       "      <td>-1.237830</td>\n",
       "      <td>0.809300</td>\n",
       "      <td>1</td>\n",
       "      <td>1</td>\n",
       "      <td>0.718362</td>\n",
       "      <td>0</td>\n",
       "      <td>0</td>\n",
       "      <td>0</td>\n",
       "    </tr>\n",
       "    <tr>\n",
       "      <th>4180</th>\n",
       "      <td>-0.429826</td>\n",
       "      <td>-0.286389</td>\n",
       "      <td>1.730036</td>\n",
       "      <td>0.485538</td>\n",
       "      <td>0.809300</td>\n",
       "      <td>0</td>\n",
       "      <td>0</td>\n",
       "      <td>1.687305</td>\n",
       "      <td>1</td>\n",
       "      <td>0</td>\n",
       "      <td>1</td>\n",
       "    </tr>\n",
       "    <tr>\n",
       "      <th>7349</th>\n",
       "      <td>-0.171721</td>\n",
       "      <td>0.278313</td>\n",
       "      <td>0.352020</td>\n",
       "      <td>-0.269213</td>\n",
       "      <td>0.809300</td>\n",
       "      <td>0</td>\n",
       "      <td>1</td>\n",
       "      <td>0.824128</td>\n",
       "      <td>1</td>\n",
       "      <td>0</td>\n",
       "      <td>1</td>\n",
       "    </tr>\n",
       "    <tr>\n",
       "      <th>7469</th>\n",
       "      <td>0.385784</td>\n",
       "      <td>-0.380507</td>\n",
       "      <td>1.041028</td>\n",
       "      <td>0.464813</td>\n",
       "      <td>-0.908179</td>\n",
       "      <td>1</td>\n",
       "      <td>0</td>\n",
       "      <td>-1.118018</td>\n",
       "      <td>0</td>\n",
       "      <td>0</td>\n",
       "      <td>0</td>\n",
       "    </tr>\n",
       "    <tr>\n",
       "      <th>3467</th>\n",
       "      <td>-1.142194</td>\n",
       "      <td>0.278313</td>\n",
       "      <td>-1.370498</td>\n",
       "      <td>0.353837</td>\n",
       "      <td>0.809300</td>\n",
       "      <td>0</td>\n",
       "      <td>1</td>\n",
       "      <td>-0.107642</td>\n",
       "      <td>1</td>\n",
       "      <td>0</td>\n",
       "      <td>0</td>\n",
       "    </tr>\n",
       "  </tbody>\n",
       "</table>\n",
       "</div>"
      ],
      "text/plain": [
       "      CreditScore       Age    Tenure   Balance  NumOfProducts  HasCrCard  \\\n",
       "5170     1.707279 -0.756975 -0.336987 -1.237830       0.809300          1   \n",
       "4180    -0.429826 -0.286389  1.730036  0.485538       0.809300          0   \n",
       "7349    -0.171721  0.278313  0.352020 -0.269213       0.809300          0   \n",
       "7469     0.385784 -0.380507  1.041028  0.464813      -0.908179          1   \n",
       "3467    -1.142194  0.278313 -1.370498  0.353837       0.809300          0   \n",
       "\n",
       "      IsActiveMember  EstimatedSalary  Geography_Germany  Geography_Spain  \\\n",
       "5170               1         0.718362                  0                0   \n",
       "4180               0         1.687305                  1                0   \n",
       "7349               1         0.824128                  1                0   \n",
       "7469               0        -1.118018                  0                0   \n",
       "3467               1        -0.107642                  1                0   \n",
       "\n",
       "      Gender_Male  \n",
       "5170            0  \n",
       "4180            1  \n",
       "7349            1  \n",
       "7469            0  \n",
       "3467            0  "
      ]
     },
     "execution_count": 22,
     "metadata": {},
     "output_type": "execute_result"
    }
   ],
   "source": [
    "#Масштабируем численные признаки тестовой выборки \n",
    "features_test[numeric] = scaler.transform(features_test[numeric])\n",
    "features_test.head()"
   ]
  },
  {
   "cell_type": "markdown",
   "metadata": {},
   "source": [
    "Применение модели машинного обучения.  \n",
    "В результате мы получили масштабированные признаки для трех выборок. Перейдем к обучению моделей."
   ]
  },
  {
   "cell_type": "code",
   "execution_count": 23,
   "metadata": {},
   "outputs": [],
   "source": [
    "def all_models_accuracy(features_train, target_train, features_valid, target_valid):\n",
    "    model_DTC = DecisionTreeClassifier(random_state=1515)\n",
    "    DTC_score = model_DTC.fit(features_train, target_train).score(features_valid, target_valid)\n",
    "    \n",
    "    model_RFC = RandomForestClassifier(max_depth=7, n_estimators=43, min_samples_leaf=3, random_state=1515)\n",
    "    RFC_score = model_RFC.fit(features_train, target_train).score(features_valid, target_valid)\n",
    "    \n",
    "    model_LgR = LogisticRegression(solver = 'liblinear')\n",
    "    LgR_score = model_LgR.fit(features_train, target_train).score(features_valid, target_valid)\n",
    "    \n",
    "    print(\"Точность:\" \"дерево решений \", DTC_score, \"случайный лес \", RFC_score, \"логистческая регрессия\", LgR_score)"
   ]
  },
  {
   "cell_type": "code",
   "execution_count": 24,
   "metadata": {},
   "outputs": [
    {
     "name": "stdout",
     "output_type": "stream",
     "text": [
      "Точность:дерево решений  0.7821782178217822 случайный лес  0.8635863586358636 логистческая регрессия 0.8085808580858086\n"
     ]
    }
   ],
   "source": [
    "all_models_accuracy(features_train, target_train, features_valid, target_valid)"
   ]
  },
  {
   "cell_type": "markdown",
   "metadata": {},
   "source": [
    "Исследование баланса классов выборки"
   ]
  },
  {
   "cell_type": "code",
   "execution_count": 25,
   "metadata": {},
   "outputs": [
    {
     "data": {
      "text/plain": [
       "0    0.793546\n",
       "1    0.206454\n",
       "Name: Exited, dtype: float64"
      ]
     },
     "execution_count": 25,
     "metadata": {},
     "output_type": "execute_result"
    }
   ],
   "source": [
    "target_train.value_counts(normalize = 1)"
   ]
  },
  {
   "cell_type": "code",
   "execution_count": 26,
   "metadata": {},
   "outputs": [
    {
     "data": {
      "image/png": "[encoded data removed]",
      "text/plain": [
       "<Figure size 360x360 with 1 Axes>"
      ]
     },
     "metadata": {
      "needs_background": "light"
     },
     "output_type": "display_data"
    }
   ],
   "source": [
    "# Построим диаграмму баланса классов\n",
    "target_train.plot(kind ='hist', bins=2, figsize=(5, 5));"
   ]
  },
  {
   "cell_type": "markdown",
   "metadata": {},
   "source": [
    "Как мы выяснили в нашей выборке отрицательных ответов около 80% , положитительных - 20%. С можно сказать, что имеется дисбаланс."
   ]
  },
  {
   "cell_type": "markdown",
   "metadata": {},
   "source": [
    "Проверка адекватности.  \n",
    "Проверим качество моделей до борьбы с дисбалансом."
   ]
  },
  {
   "cell_type": "code",
   "execution_count": 27,
   "metadata": {},
   "outputs": [],
   "source": [
    "#Напишем функцию для изучия полноты, точности и F1-меры\n",
    "def rec_prec_f1_auc_roc(target_valid, prediction, features_valid, model):\n",
    "    print(\"Полнота:\" , recall_score(target_valid, prediction))\n",
    "    print(\"Точность:\", precision_score(target_valid, prediction))\n",
    "    print(\"F1-мера:\", f1_score(target_valid, prediction))\n",
    "    print(\"Auc_roc:\", roc_auc_score(target_valid, model.predict_proba(features_valid)[:, 1]))"
   ]
  },
  {
   "cell_type": "code",
   "execution_count": 28,
   "metadata": {},
   "outputs": [],
   "source": [
    "# Функция для отображения соотношения ответов моделей (сколько 0, сколько 1)\n",
    "def all_models_share(features_train, target_train, features_valid, target_valid):\n",
    "    model_DTC = DecisionTreeClassifier(random_state=12345)\n",
    "    model_DTC.fit(features_train, target_train)\n",
    "    DTC_share = pd.Series(model_DTC.predict(features_valid)).value_counts(normalize = 1)\n",
    "    \n",
    "    model_RFC = RandomForestClassifier(random_state=12345, n_estimators = 100)\n",
    "    model_RFC.fit(features_train, target_train)\n",
    "    RFC_share = pd.Series(model_RFC.predict(features_valid)).value_counts(normalize = 1)\n",
    "    \n",
    "    model_LgR = LogisticRegression(solver = 'liblinear')\n",
    "    model_LgR.fit(features_train, target_train)\n",
    "    LgR_share = pd.Series(model_LgR.predict(features_valid)).value_counts(normalize = 1)\n",
    "        \n",
    "    print(\"Доли ответов:\" \"Дерево решений\", DTC_share, \"Случайный лес \", RFC_share, \"Логистческая регрессия\", LgR_share , end='')"
   ]
  },
  {
   "cell_type": "code",
   "execution_count": 29,
   "metadata": {},
   "outputs": [
    {
     "name": "stdout",
     "output_type": "stream",
     "text": [
      "Доли ответов:Дерево решений 0    0.794279\n",
      "1    0.205721\n",
      "dtype: float64 Случайный лес  0    0.874587\n",
      "1    0.125413\n",
      "dtype: float64 Логистческая регрессия 0    0.932343\n",
      "1    0.067657\n",
      "dtype: float64"
     ]
    }
   ],
   "source": [
    "#Применим функцию отображения соотношения ответов моделей\n",
    "all_models_share(features_train, target_train, features_valid, target_valid)"
   ]
  },
  {
   "cell_type": "code",
   "execution_count": 30,
   "metadata": {},
   "outputs": [],
   "source": [
    "def plot_roc_curve(fper, tper):\n",
    "    plt.plot(fper, tper, color='red', label='ROC')\n",
    "    plt.plot([0, 1], [0, 1], color='green', linestyle='--')\n",
    "    plt.xlim([0.0, 1.0])\n",
    "    plt.ylim([0.0, 1.0])\n",
    "    plt.xlabel('False Positive Rate')\n",
    "    plt.ylabel('True Positive Rate')\n",
    "    plt.title('ROC-кривая')\n",
    "    plt.legend()\n",
    "    plt.show()"
   ]
  },
  {
   "cell_type": "markdown",
   "metadata": {},
   "source": [
    "Логистичесая регрессия показывала самую высокую точность, далее случайный лес и в конце - дерево решений.  \n",
    "С учетом дисбаланса результата, неудивительно, что модели с большой вероятностью будут выдавать ответ 0, построим матрицы ошибок для моделей."
   ]
  },
  {
   "cell_type": "markdown",
   "metadata": {},
   "source": [
    "Случайный лес"
   ]
  },
  {
   "cell_type": "code",
   "execution_count": 31,
   "metadata": {},
   "outputs": [
    {
     "name": "stderr",
     "output_type": "stream",
     "text": [
      "100%|██████████| 16/16 [00:56<00:00,  3.50s/it]"
     ]
    },
    {
     "name": "stdout",
     "output_type": "stream",
     "text": [
      "Оптимальное количество оценок: 110\n",
      "Оптимальная глубина дерева: 14\n",
      "F1-мера: 0.5892255892255892\n"
     ]
    },
    {
     "name": "stderr",
     "output_type": "stream",
     "text": [
      "\n"
     ]
    }
   ],
   "source": [
    "#Случайный лес - подберем лучшие гиперпараметры\n",
    "best_model = None\n",
    "best_f1 = 0\n",
    "for est in tqdm(range(50, 201, 10)):\n",
    "    for depth in range(2, 15, 3):\n",
    "        model_RFC = RandomForestClassifier(random_state=12345,\n",
    "                                              n_estimators=est, \n",
    "                                              max_depth=depth)\n",
    "        model_RFC.fit(features_train, target_train)\n",
    "        RFC_prediction = model_RFC.predict(features_valid)\n",
    "        f1_forest = f1_score(target_valid, RFC_prediction)\n",
    "        if f1_forest > best_f1:\n",
    "            best_model = model_RFC\n",
    "            best_f1 = f1_forest\n",
    "            best_est = est\n",
    "            best_depth = depth\n",
    "\n",
    "print('Оптимальное количество оценок:', best_est)\n",
    "print('Оптимальная глубина дерева:', best_depth)\n",
    "print('F1-мера:', best_f1)"
   ]
  },
  {
   "cell_type": "code",
   "execution_count": 32,
   "metadata": {},
   "outputs": [],
   "source": [
    "#Обучим модель с оптимальными значениями гиперпараметров\n",
    "model_RFC = RandomForestClassifier(random_state=12345, \n",
    "                                      n_estimators=best_est, \n",
    "                                      max_depth=best_depth)\n",
    "model_RFC.fit(features_train, target_train)\n",
    "RFC_prediction = model_RFC.predict(features_valid)"
   ]
  },
  {
   "cell_type": "code",
   "execution_count": 33,
   "metadata": {},
   "outputs": [
    {
     "name": "stdout",
     "output_type": "stream",
     "text": [
      "Полнота: 0.46419098143236076\n",
      "Точность: 0.8064516129032258\n",
      "F1-мера: 0.5892255892255892\n",
      "Auc_roc: 0.8631237149268212\n"
     ]
    }
   ],
   "source": [
    "rec_prec_f1_auc_roc(target_valid, RFC_prediction, features_valid, model_RFC)"
   ]
  },
  {
   "cell_type": "markdown",
   "metadata": {},
   "source": [
    "<div class=\"alert alert-block alert-warning\">\n",
    "<b>Комментарий студента:</b> Отдельно построим матрицу ошибок, чтобы посмотреть на соотношения TP, TN, FP и FN:\n",
    "</div>"
   ]
  },
  {
   "cell_type": "code",
   "execution_count": 34,
   "metadata": {},
   "outputs": [
    {
     "data": {
      "image/png": "[encoded data removed]",
      "text/plain": [
       "<Figure size 432x288 with 2 Axes>"
      ]
     },
     "metadata": {
      "needs_background": "light"
     },
     "output_type": "display_data"
    }
   ],
   "source": [
    "plot_confusion_matrix(estimator=model_RFC, X=features_valid, y_true=target_valid,\n",
    "                      normalize='true', cmap='Blues')\n",
    "None"
   ]
  },
  {
   "cell_type": "markdown",
   "metadata": {},
   "source": [
    "<div class=\"alert alert-block alert-warning\">\n",
    "<b>Комментарий студента:</b> ROC-кривая для модели Случайного леса:\n",
    "</div>"
   ]
  },
  {
   "cell_type": "code",
   "execution_count": 35,
   "metadata": {},
   "outputs": [
    {
     "data": {
      "image/png": "[encoded data removed]",
      "text/plain": [
       "<Figure size 432x288 with 1 Axes>"
      ]
     },
     "metadata": {
      "needs_background": "light"
     },
     "output_type": "display_data"
    }
   ],
   "source": [
    "fper, tper, thresholds = roc_curve(target_valid, model_RFC.predict_proba(features_valid)[:, 1])\n",
    "plot_roc_curve(fper, tper)"
   ]
  },
  {
   "cell_type": "markdown",
   "metadata": {},
   "source": [
    "Вывод: Случайный лес выдает заметно больше качественных предсказаний, но также сильно склоняется к ложно-позитивным предсказаниям (FP). Точность и качество также низкие."
   ]
  },
  {
   "cell_type": "markdown",
   "metadata": {},
   "source": [
    "Дерево решений"
   ]
  },
  {
   "cell_type": "code",
   "execution_count": 36,
   "metadata": {},
   "outputs": [
    {
     "name": "stdout",
     "output_type": "stream",
     "text": [
      "Оптимальная глубина дерева: 8\n",
      "F1-мера: 0.5413290113452188\n"
     ]
    }
   ],
   "source": [
    "#Дерево решений - подберем лучшие гиперпараметры\n",
    "best_model = None\n",
    "best_f1 = 0\n",
    "for depth in range(2, 15, 3):\n",
    "    model_DTC = DecisionTreeClassifier(random_state=12345,\n",
    "                                        max_depth=depth)\n",
    "    model_DTC.fit(features_train, target_train)\n",
    "    DTC_prediction = model_DTC.predict(features_valid)\n",
    "    f1_DTC = f1_score(target_valid, DTC_prediction)\n",
    "    if f1_DTC > best_f1:\n",
    "        best_model = model_DTC\n",
    "        best_depth = depth\n",
    "        best_f1 = f1_DTC\n",
    "\n",
    "print('Оптимальная глубина дерева:', best_depth) \n",
    "print('F1-мера:', best_f1)"
   ]
  },
  {
   "cell_type": "code",
   "execution_count": 37,
   "metadata": {},
   "outputs": [],
   "source": [
    "#Обучим модель с оптимальными значениями гиперпараметров\n",
    "model_DTC = DecisionTreeClassifier(random_state=12345,\n",
    "                                    max_depth=best_depth)\n",
    "model_DTC.fit(features_train, target_train)\n",
    "DTC_prediction = model_DTC.predict(features_valid)"
   ]
  },
  {
   "cell_type": "code",
   "execution_count": 38,
   "metadata": {},
   "outputs": [
    {
     "name": "stdout",
     "output_type": "stream",
     "text": [
      "Полнота: 0.44297082228116713\n",
      "Точность: 0.6958333333333333\n",
      "F1-мера: 0.5413290113452188\n",
      "Auc_roc: 0.8066826566431725\n"
     ]
    }
   ],
   "source": [
    "rec_prec_f1_auc_roc(target_valid, DTC_prediction, features_valid, model_DTC)"
   ]
  },
  {
   "cell_type": "code",
   "execution_count": 39,
   "metadata": {},
   "outputs": [
    {
     "data": {
      "image/png": "[encoded data removed]",
      "text/plain": [
       "<Figure size 432x288 with 2 Axes>"
      ]
     },
     "metadata": {
      "needs_background": "light"
     },
     "output_type": "display_data"
    }
   ],
   "source": [
    "plot_confusion_matrix(estimator=model_DTC, X=features_valid, y_true=target_valid,\n",
    "                      normalize='true', cmap='Blues')\n",
    "None"
   ]
  },
  {
   "cell_type": "markdown",
   "metadata": {},
   "source": [
    "<div class=\"alert alert-block alert-warning\">\n",
    "<b>Комментарий студента:</b> ROC-кривая для модели Дерева решений:\n",
    "</div>"
   ]
  },
  {
   "cell_type": "code",
   "execution_count": 40,
   "metadata": {},
   "outputs": [
    {
     "data": {
      "image/png": "[encoded data removed]",
      "text/plain": [
       "<Figure size 432x288 with 1 Axes>"
      ]
     },
     "metadata": {
      "needs_background": "light"
     },
     "output_type": "display_data"
    }
   ],
   "source": [
    "fper, tper, thresholds = roc_curve(target_valid, model_DTC.predict_proba(features_valid)[:, 1])\n",
    "plot_roc_curve(fper, tper)"
   ]
  },
  {
   "cell_type": "markdown",
   "metadata": {},
   "source": [
    "Вывод: Матрица показала, что Дерево решений, как и Случайный лес склонно выдавать качественные предсказания, количество ложных позитивных предсказаний (FP) больше, чем у Случайного леса. Видим низкое значение F1, следовательно низкое качество модели, проблема в точности."
   ]
  },
  {
   "cell_type": "markdown",
   "metadata": {},
   "source": [
    "Логистическая регрессия"
   ]
  },
  {
   "cell_type": "code",
   "execution_count": 41,
   "metadata": {},
   "outputs": [],
   "source": [
    "#Логистическая регрессия - подберем лучшие гиперпараметры\n",
    "model_LgR = LogisticRegression(random_state=12345,\n",
    "                               solver='liblinear')\n",
    "#Обучим модель на тренировочной выборке\n",
    "model_LgR.fit(features_train, target_train)\n",
    "#Получим предсказания на валидационной выборке\n",
    "LgR_prediction = model_LgR.predict(features_valid)"
   ]
  },
  {
   "cell_type": "code",
   "execution_count": 42,
   "metadata": {},
   "outputs": [
    {
     "name": "stdout",
     "output_type": "stream",
     "text": [
      "Полнота: 0.20159151193633953\n",
      "Точность: 0.6178861788617886\n",
      "F1-мера: 0.30400000000000005\n",
      "Auc_roc: 0.7736191158144302\n"
     ]
    }
   ],
   "source": [
    "rec_prec_f1_auc_roc(target_valid, LgR_prediction, features_valid, model_LgR)"
   ]
  },
  {
   "cell_type": "code",
   "execution_count": 43,
   "metadata": {},
   "outputs": [
    {
     "data": {
      "image/png": "[encoded data removed]",
      "text/plain": [
       "<Figure size 432x288 with 2 Axes>"
      ]
     },
     "metadata": {
      "needs_background": "light"
     },
     "output_type": "display_data"
    }
   ],
   "source": [
    "plot_confusion_matrix(estimator=model_LgR, X=features_valid, y_true=target_valid,\n",
    "                      normalize='true', cmap='Blues')\n",
    "None"
   ]
  },
  {
   "cell_type": "markdown",
   "metadata": {},
   "source": [
    "<div class=\"alert alert-block alert-warning\">\n",
    "<b>Комментарий студента:</b> ROC-кривая для модели Логистической регрессии:\n",
    "</div>"
   ]
  },
  {
   "cell_type": "code",
   "execution_count": 44,
   "metadata": {},
   "outputs": [
    {
     "data": {
      "image/png": "[encoded data removed]",
      "text/plain": [
       "<Figure size 432x288 with 1 Axes>"
      ]
     },
     "metadata": {
      "needs_background": "light"
     },
     "output_type": "display_data"
    }
   ],
   "source": [
    "fper, tper, thresholds = roc_curve(target_valid, model_LgR.predict_proba(features_valid)[:, 1])\n",
    "plot_roc_curve(fper, tper)"
   ]
  },
  {
   "cell_type": "markdown",
   "metadata": {},
   "source": [
    "Вывод: Отстутсвие улучшений. Довольно высокая точность модели объясняется высокой долей негативных ответов в валидационной выборке."
   ]
  },
  {
   "cell_type": "markdown",
   "metadata": {},
   "source": [
    "Вывод по шагу 2 \"Исследование задачи\":  \n",
    "- Был сформирован новый датафрейм. Количество столбцов увеличелост на 1 (стало 12) Столбец Geography содержал 3 класса, Gender_Male 2 класса — в результате мы получили только 2 и 1 столбцов соответственно, что позволило избежать дамми-ловушки.  \n",
    "- Сформировали выборки в следующем соотношении:  \n",
    "обучающая - 0.6, валидационная - 0.2, тестовая - 0.2.  \n",
    "- Масштабировали признаки всех трех выборок (Обучающей, валидационной и тестовой).  \n",
    "- Определили наличие дисбаланса.\n",
    "- Проверили качество и точность моделей до устранения дисбаланса. Самые выские качества и точность модели показал Случайный лес, далее - Дерево решений и Логистическая регрессия.  \n",
    "- Построили матрицы ошибок для моделей:  \n",
    "Случайный лес выдает заметно больше качественных предсказаний. Точность и качество высокие.  Не сильно отличаются значения Дерева решений.\n",
    "Дерево решений склонно выдавать позитивные предсказания, очень высокое количество ложных позитивных предсказания (FP), низкое значение F1, следовательно низкое качество модели, проблема в точности.  \n",
    "Логистическая регрессия показала наименьшее значение TP, полнота, точность и F1 хуже, чем у других моделей.  \n",
    "Матрицы ошибок наглядно демонстрируют сильный дисбаланс классов.  \n",
    "К примеру, для моделей Дерево решений и Случайный лес ситуация схожая - факт того, что клиент не ушел (0), модели определяют правильно примерно в 95% случаев, в то время как результат предсказаний по факту ухода (1) в среднем всего 45%."
   ]
  },
  {
   "cell_type": "markdown",
   "metadata": {},
   "source": [
    "## Борьба с дисбалансом"
   ]
  },
  {
   "cell_type": "markdown",
   "metadata": {},
   "source": [
    "Как мы выяснили ранее в нашей выборке отрицательны ответов около 80% , положитительных - 20%. Нам необходмо увеличить количество положительных ответов в 4 раза для достижения баланса. Либо уменьшить количество отрицтаельных ответов.\n",
    "\n",
    "- Разделим обучающую выборку на отрицательные и положительные объекты;  \n",
    "\n",
    "Для положительных объектов используем определенную нами функцию upsample:  \n",
    "- Скопируем несколько раз положительные объекты;  \n",
    "- С учётом полученных данных создадим новую обучающую выборку;  \n",
    "- Перемешаем данные: идущие друг за другом одинаковые вопросы не помогут обучению;  \n",
    "- Обучим новые модели.\n",
    "\n",
    "Для отрицательных объектов используем определенную нами функцию downsample:  \n",
    "- Уменьшим количество отрицательных объектов;  \n",
    "- С учётом полученных данных создадим новую обучающую выборку;  \n",
    "- Перемешаем данные: идущие друг за другом одинаковые вопросы не помогут обучению;  \n",
    "- Обучим новые модели."
   ]
  },
  {
   "cell_type": "code",
   "execution_count": 45,
   "metadata": {},
   "outputs": [],
   "source": [
    "#Определим функцию для увеличения представленного класса в выборке \n",
    "def upsample(features, target, repeat, upsampled_сlass):\n",
    "    \"\"\"Функция принимаем значение признаков (features[]), целевого признака (target[]), repeat(int / float),\n",
    "    класс который будет увеличен (upsampled_сlass (0 or 1))\"\"\"\n",
    "    features_zeros = features[target == 0]\n",
    "    features_ones = features[target == 1]\n",
    "    target_zeros = target[target == 0]\n",
    "    target_ones = target[target == 1]\n",
    "    \n",
    "    if upsampled_сlass == 0:\n",
    "        features_upsampled = pd.concat([features_zeros]* repeat + [features_ones] )\n",
    "        target_upsampled = pd.concat([target_zeros]* repeat + [target_ones] )\n",
    "        features_upsampled, target_upsampled = shuffle(\n",
    "        features_upsampled, target_upsampled, random_state=12345)\n",
    "        \n",
    "    elif upsampled_сlass == 1:\n",
    "        features_upsampled = pd.concat([features_zeros] + [features_ones] * repeat)\n",
    "        target_upsampled = pd.concat([target_zeros] + [target_ones] * repeat)\n",
    "        features_upsampled, target_upsampled = shuffle(\n",
    "        features_upsampled, target_upsampled, random_state=12345)\n",
    "    else:\n",
    "        features_upsampled = 0\n",
    "        target_upsampled = 0  \n",
    "              \n",
    "    return features_upsampled, target_upsampled"
   ]
  },
  {
   "cell_type": "code",
   "execution_count": 46,
   "metadata": {},
   "outputs": [],
   "source": [
    "#Определим функцию для уменьшения представленного класса в выборке \n",
    "def downsample(features, target, fraction):\n",
    "    features_zeros = features[target == 0]\n",
    "    features_ones = features[target == 1]\n",
    "    target_zeros = target[target == 0]\n",
    "    target_ones = target[target == 1]\n",
    "\n",
    "    features_downsampled = pd.concat(\n",
    "        [features_zeros.sample(frac=fraction, random_state=12345)] + [features_ones])\n",
    "    target_downsampled = pd.concat(\n",
    "        [target_zeros.sample(frac=fraction, random_state=12345)] + [target_ones])\n",
    "    \n",
    "    features_downsampled, target_downsampled = shuffle(\n",
    "        features_downsampled, target_downsampled, random_state=12345)\n",
    "    \n",
    "    return features_downsampled, target_downsampled"
   ]
  },
  {
   "cell_type": "code",
   "execution_count": 47,
   "metadata": {},
   "outputs": [],
   "source": [
    "features_downsampled_train, target_downsampled_train = downsample(features_train, target_train, fraction=0.25)"
   ]
  },
  {
   "cell_type": "code",
   "execution_count": 48,
   "metadata": {},
   "outputs": [
    {
     "name": "stdout",
     "output_type": "stream",
     "text": [
      "0    0.93893\n",
      "1    0.06107\n",
      "Name: Exited, dtype: float64\n",
      "(18438,)\n"
     ]
    }
   ],
   "source": [
    "#Протестируем функцию (верное значение)\n",
    "features_train_upsampled, target_train_upsampled = upsample(features_train, target_train, 4, 0)\n",
    "print(target_train_upsampled.value_counts(normalize = 1))\n",
    "print(target_train_upsampled.shape)"
   ]
  },
  {
   "cell_type": "code",
   "execution_count": 49,
   "metadata": {},
   "outputs": [
    {
     "data": {
      "text/plain": [
       "0"
      ]
     },
     "execution_count": 49,
     "metadata": {},
     "output_type": "execute_result"
    }
   ],
   "source": [
    "#Протестируем функцию (верное значение)\n",
    "features_train_upsampled, target_train_upsampled = upsample(features_train, target_train, 4, 3)\n",
    "features_train_upsampled"
   ]
  },
  {
   "cell_type": "code",
   "execution_count": 50,
   "metadata": {},
   "outputs": [
    {
     "name": "stdout",
     "output_type": "stream",
     "text": [
      "1    0.509964\n",
      "0    0.490036\n",
      "Name: Exited, dtype: float64\n",
      "(8832,)\n"
     ]
    }
   ],
   "source": [
    "#Применим функцию upsample, увеличим количество положительных ответов в 4 раза\n",
    "features_train_upsampled, target_train_upsampled = upsample(features_train, target_train, 4, 1)\n",
    "print(target_train_upsampled.value_counts(normalize = 1))\n",
    "print(target_train_upsampled.shape)"
   ]
  },
  {
   "cell_type": "code",
   "execution_count": 51,
   "metadata": {},
   "outputs": [
    {
     "data": {
      "image/png": "[encoded data removed]",
      "text/plain": [
       "<Figure size 360x360 with 1 Axes>"
      ]
     },
     "metadata": {
      "needs_background": "light"
     },
     "output_type": "display_data"
    }
   ],
   "source": [
    "#Визуализируем результат работы функции upsample.\n",
    "target_train_upsampled.plot(kind ='hist', bins=3, figsize=(5,5));"
   ]
  },
  {
   "cell_type": "code",
   "execution_count": 52,
   "metadata": {},
   "outputs": [
    {
     "name": "stdout",
     "output_type": "stream",
     "text": [
      "1    0.565261\n",
      "0    0.434739\n",
      "Name: Exited, dtype: float64\n",
      "(1992,)\n"
     ]
    }
   ],
   "source": [
    "#Применим функцию downsample, уменьшив количество отрицательных ответов в 4 раза. Протестируем функцию (верное значение)\n",
    "features_downsampled_train, target_downsampled_train = downsample(features_train, target_train, 0.2)\n",
    "print(target_downsampled_train.value_counts(normalize = 1))\n",
    "print(target_downsampled_train.shape)"
   ]
  },
  {
   "cell_type": "code",
   "execution_count": 53,
   "metadata": {},
   "outputs": [
    {
     "data": {
      "image/png": "[encoded data removed]",
      "text/plain": [
       "<Figure size 360x360 with 1 Axes>"
      ]
     },
     "metadata": {
      "needs_background": "light"
     },
     "output_type": "display_data"
    }
   ],
   "source": [
    "#Визуализируем результат работы функции downsample.\n",
    "target_downsampled_train.plot(kind ='hist', bins=3, figsize=(5,5));"
   ]
  },
  {
   "cell_type": "markdown",
   "metadata": {},
   "source": [
    "Обученим модели на сбалансированной выборке"
   ]
  },
  {
   "cell_type": "code",
   "execution_count": 54,
   "metadata": {},
   "outputs": [
    {
     "name": "stdout",
     "output_type": "stream",
     "text": [
      "Точность:дерево решений  0.7821782178217822 случайный лес  0.8635863586358636 логистческая регрессия 0.8085808580858086\n"
     ]
    }
   ],
   "source": [
    "#Точность моделей на выборке с дисбалансом\n",
    "all_models_accuracy(features_train, target_train, features_valid, target_valid)"
   ]
  },
  {
   "cell_type": "code",
   "execution_count": 55,
   "metadata": {},
   "outputs": [
    {
     "name": "stdout",
     "output_type": "stream",
     "text": [
      "Точность:дерево решений  0.786028602860286 случайный лес  0.7981298129812981 логистческая регрессия 0.7013201320132013\n"
     ]
    }
   ],
   "source": [
    "#Точность моделей на сбалансированной выборке на результатах работы функции upsample\n",
    "all_models_accuracy(features_train_upsampled, target_train_upsampled, features_valid, target_valid)"
   ]
  },
  {
   "cell_type": "markdown",
   "metadata": {},
   "source": [
    "Точность сильно не изменилась, проверим качество ответов."
   ]
  },
  {
   "cell_type": "code",
   "execution_count": 56,
   "metadata": {},
   "outputs": [
    {
     "name": "stdout",
     "output_type": "stream",
     "text": [
      "Точность:дерево решений  0.6727172717271728 случайный лес  0.7222222222222222 логистческая регрессия 0.6490649064906491\n"
     ]
    }
   ],
   "source": [
    "#Точность моделей на сбалансированной выборке на результатах работы функции downsample\n",
    "all_models_accuracy(features_downsampled_train, target_downsampled_train, features_valid, target_valid)"
   ]
  },
  {
   "cell_type": "markdown",
   "metadata": {},
   "source": [
    "<div class=\"alert alert-block alert-warning\">\n",
    "<b>Комментарий студента:</b> Перебор гиперпараметров для увеличенной выборки:\n",
    "</div>"
   ]
  },
  {
   "cell_type": "markdown",
   "metadata": {},
   "source": [
    "Случайный лес"
   ]
  },
  {
   "cell_type": "markdown",
   "metadata": {},
   "source": [
    "11.09.2023. Изменили параметры перебора гиперпараметров, было: tqdm(range(50, 201, 10)), range(2, 15, 3)"
   ]
  },
  {
   "cell_type": "code",
   "execution_count": 57,
   "metadata": {},
   "outputs": [
    {
     "name": "stderr",
     "output_type": "stream",
     "text": [
      "100%|██████████| 16/16 [01:15<00:00,  4.72s/it]"
     ]
    },
    {
     "name": "stdout",
     "output_type": "stream",
     "text": [
      "Оптимальное количество оценок: 80\n",
      "Оптимальная глубина дерева: 14\n"
     ]
    },
    {
     "name": "stderr",
     "output_type": "stream",
     "text": [
      "\n"
     ]
    }
   ],
   "source": [
    "#Случайный лес - подберем лучшие гиперпараметры\n",
    "best_model = None\n",
    "best_f1 = 0\n",
    "best_depth = 0\n",
    "for est in tqdm(range(50, 101, 10)):\n",
    "    for depth in range(2, 20, 3):\n",
    "        model_RFC = RandomForestClassifier(random_state=12345,\n",
    "                                              n_estimators=est, \n",
    "                                              max_depth=depth)\n",
    "        model_RFC.fit(features_train_upsampled, target_train_upsampled)\n",
    "        RFC_prediction = model_RFC.predict(features_valid)\n",
    "        f1_forest = f1_score(target_valid, RFC_prediction)\n",
    "        if f1_forest > best_f1:\n",
    "            best_model = model_RFC\n",
    "            best_f1 = f1_forest\n",
    "            best_est = est\n",
    "            best_depth = depth\n",
    "\n",
    "print('Оптимальное количество оценок:', best_est)\n",
    "print('Оптимальная глубина дерева:', best_depth)"
   ]
  },
  {
   "cell_type": "code",
   "execution_count": 58,
   "metadata": {},
   "outputs": [
    {
     "name": "stdout",
     "output_type": "stream",
     "text": [
      "Полнота: 0.6259946949602122\n",
      "Точность: 0.6537396121883656\n",
      "F1-мера: 0.6395663956639566\n",
      "Auc_roc: 0.8614035346070091\n"
     ]
    }
   ],
   "source": [
    "#Обучим модель \"Случайный лес\" с лучшими гиперпараметрами\n",
    "model_RFC = RandomForestClassifier(random_state=12345, \n",
    "                                      n_estimators=best_est, \n",
    "                                      max_depth=best_depth)\n",
    "model_RFC.fit(features_train_upsampled, target_train_upsampled)\n",
    "RFC_prediction = model_RFC.predict(features_valid)\n",
    "\n",
    "rec_prec_f1_auc_roc(target_valid, RFC_prediction, features_valid, model_RFC)"
   ]
  },
  {
   "cell_type": "markdown",
   "metadata": {},
   "source": [
    "Дерево решений"
   ]
  },
  {
   "cell_type": "code",
   "execution_count": 59,
   "metadata": {},
   "outputs": [
    {
     "name": "stdout",
     "output_type": "stream",
     "text": [
      "Оптимальная глубина дерева: 5\n",
      "F1-мера: 0.5735449735449736\n"
     ]
    }
   ],
   "source": [
    "#Дерево решений - подберем лучшие гиперпараметры\n",
    "best_model = None\n",
    "best_f1 = 0\n",
    "for depth in range(2, 15, 3):\n",
    "    model_DTC = DecisionTreeClassifier(random_state=12345,\n",
    "                                        max_depth=depth)\n",
    "    model_DTC.fit(features_train_upsampled, target_train_upsampled)\n",
    "    DTC_prediction = model_DTC.predict(features_valid)\n",
    "    f1_DTC = f1_score(target_valid, DTC_prediction)\n",
    "    if f1_DTC > best_f1:\n",
    "        best_model = model_DTC\n",
    "        best_depth = depth\n",
    "        best_f1 = f1_DTC\n",
    "\n",
    "print('Оптимальная глубина дерева:', best_depth) \n",
    "print('F1-мера:', best_f1)"
   ]
  },
  {
   "cell_type": "code",
   "execution_count": 60,
   "metadata": {},
   "outputs": [
    {
     "name": "stdout",
     "output_type": "stream",
     "text": [
      "Полнота: 0.7188328912466844\n",
      "Точность: 0.477112676056338\n",
      "F1-мера: 0.5735449735449736\n",
      "Auc_roc: 0.8396523192522141\n"
     ]
    }
   ],
   "source": [
    "#Обучим модель \"Дерево решений\" с лучшими гиперпараметрами\n",
    "model_DTC = DecisionTreeClassifier(random_state=12345,\n",
    "                                    max_depth=best_depth)\n",
    "model_DTC.fit(features_train_upsampled, target_train_upsampled)\n",
    "DTC_prediction = model_DTC.predict(features_valid)\n",
    "\n",
    "rec_prec_f1_auc_roc(target_valid, DTC_prediction, features_valid, model_DTC)"
   ]
  },
  {
   "cell_type": "markdown",
   "metadata": {},
   "source": [
    "Логистическая регрессия"
   ]
  },
  {
   "cell_type": "code",
   "execution_count": 61,
   "metadata": {},
   "outputs": [
    {
     "name": "stdout",
     "output_type": "stream",
     "text": [
      "Полнота: 0.7453580901856764\n",
      "Точность: 0.385989010989011\n",
      "F1-мера: 0.5085972850678734\n",
      "Auc_roc: 0.7779006989325494\n"
     ]
    }
   ],
   "source": [
    "#Обучим модель \"Логистическую регрессию\"\n",
    "model_LgR = LogisticRegression(random_state=12345,\n",
    "                               solver='liblinear')\n",
    "model_LgR.fit(features_train_upsampled, target_train_upsampled)\n",
    "LgR_prediction = model_LgR.predict(features_valid)\n",
    "\n",
    "rec_prec_f1_auc_roc(target_valid, LgR_prediction, features_valid, model_LgR)"
   ]
  },
  {
   "cell_type": "markdown",
   "metadata": {},
   "source": [
    "Вывод по результатам моделей с лучшими гиперпараметрами для увеличенной выборки:"
   ]
  },
  {
   "cell_type": "markdown",
   "metadata": {},
   "source": [
    "Случайный лес:  \n",
    "Полнота: 0.6259946949602122  \n",
    "Точность: 0.6537396121883656  \n",
    "F1-мера: 0.6395663956639566  \n",
    "Auc_roc: 0.8614035346070091  \n",
    "\n",
    "Дерево решений:  \n",
    "Полнота: 0.7188328912466844  \n",
    "Точность: 0.477112676056338  \n",
    "F1-мера: 0.5735449735449736  \n",
    "Auc_roc: 0.8396523192522141  \n",
    "\n",
    "Логистическая регрессия:  \n",
    "Полнота: 0.7453580901856764  \n",
    "Точность: 0.385989010989011  \n",
    "F1-мера: 0.5085972850678734  \n",
    "Auc_roc: 0.7779006989325494  "
   ]
  },
  {
   "cell_type": "markdown",
   "metadata": {},
   "source": [
    "<div class=\"alert alert-block alert-warning\">\n",
    "<b>Комментарий студента:</b> Перебор гиперпараметров для уменьшенной выборки:\n",
    "</div>"
   ]
  },
  {
   "cell_type": "markdown",
   "metadata": {},
   "source": [
    "Случайный лес"
   ]
  },
  {
   "cell_type": "markdown",
   "metadata": {},
   "source": [
    "11.09.2023. Изменили параметры перебора гиперпараметров, было: tqdm(range(50, 201, 10)), range(2, 15, 3)"
   ]
  },
  {
   "cell_type": "code",
   "execution_count": 62,
   "metadata": {},
   "outputs": [
    {
     "name": "stderr",
     "output_type": "stream",
     "text": [
      "100%|██████████| 16/16 [00:31<00:00,  1.98s/it]"
     ]
    },
    {
     "name": "stdout",
     "output_type": "stream",
     "text": [
      "Оптимальное количество оценок: 200\n",
      "Оптимальная глубина дерева: 14\n"
     ]
    },
    {
     "name": "stderr",
     "output_type": "stream",
     "text": [
      "\n"
     ]
    }
   ],
   "source": [
    "#Случайный лес - подберем лучшие гиперпараметры\n",
    "best_model = None\n",
    "best_f1 = 0\n",
    "best_depth = 0\n",
    "best_est = 0\n",
    "for est in tqdm(range(50, 101, 10)):\n",
    "    for depth in range(2, 20, 3):\n",
    "        model_RFC = RandomForestClassifier(random_state=12345,\n",
    "                                              n_estimators=est, \n",
    "                                              max_depth=depth)\n",
    "        model_RFC.fit(features_downsampled_train, target_downsampled_train)\n",
    "        RFC_prediction = model_RFC.predict(features_valid)\n",
    "        f1_forest = f1_score(target_valid, RFC_prediction)\n",
    "        if f1_forest > best_f1:\n",
    "            best_model = model_RFC\n",
    "            best_f1 = f1_forest\n",
    "            best_est = est\n",
    "            best_depth = depth\n",
    "\n",
    "print('Оптимальное количество оценок:', best_est)\n",
    "print('Оптимальная глубина дерева:', best_depth)"
   ]
  },
  {
   "cell_type": "code",
   "execution_count": 63,
   "metadata": {},
   "outputs": [
    {
     "name": "stdout",
     "output_type": "stream",
     "text": [
      "Полнота: 0.8514588859416445\n",
      "Точность: 0.43437077131258456\n",
      "F1-мера: 0.575268817204301\n",
      "Auc_roc: 0.8683109467526421\n"
     ]
    }
   ],
   "source": [
    "#Обучим модель \"Случайный лес\" с лучшими гиперпараметрами\n",
    "model_RFC = RandomForestClassifier(random_state=12345, \n",
    "                                      n_estimators=best_est, \n",
    "                                      max_depth=best_depth)\n",
    "model_RFC.fit(features_downsampled_train, target_downsampled_train)\n",
    "RFC_prediction = model_RFC.predict(features_valid)\n",
    "\n",
    "rec_prec_f1_auc_roc(target_valid, RFC_prediction, features_valid, model_RFC)"
   ]
  },
  {
   "cell_type": "markdown",
   "metadata": {},
   "source": [
    "Дерево решений"
   ]
  },
  {
   "cell_type": "code",
   "execution_count": 64,
   "metadata": {},
   "outputs": [
    {
     "name": "stdout",
     "output_type": "stream",
     "text": [
      "Оптимальная глубина дерева: 5\n",
      "F1-мера: 0.5485519591141397\n"
     ]
    }
   ],
   "source": [
    "#Дерево решений - подберем лучшие гиперпараметры\n",
    "best_model = None\n",
    "best_f1 = 0\n",
    "for depth in range(2, 15, 3):\n",
    "    model_DTC = DecisionTreeClassifier(random_state=12345,\n",
    "                                        max_depth=depth)\n",
    "    model_DTC.fit(features_downsampled_train, target_downsampled_train)\n",
    "    DTC_prediction = model_DTC.predict(features_valid)\n",
    "    f1_DTC = f1_score(target_valid, DTC_prediction)\n",
    "    if f1_DTC > best_f1:\n",
    "        best_model = model_DTC\n",
    "        best_depth = depth\n",
    "        best_f1 = f1_DTC\n",
    "\n",
    "print('Оптимальная глубина дерева:', best_depth) \n",
    "print('F1-мера:', best_f1)"
   ]
  },
  {
   "cell_type": "code",
   "execution_count": 65,
   "metadata": {},
   "outputs": [
    {
     "name": "stdout",
     "output_type": "stream",
     "text": [
      "Полнота: 0.8541114058355438\n",
      "Точность: 0.40401505646173147\n",
      "F1-мера: 0.5485519591141397\n",
      "Auc_roc: 0.8370393754705416\n"
     ]
    }
   ],
   "source": [
    "#Обучим модель \"Дерево решений\" с лучшими гиперпараметрами\n",
    "model_DTC = DecisionTreeClassifier(random_state=12345,\n",
    "                                    max_depth=best_depth)\n",
    "model_DTC.fit(features_downsampled_train, target_downsampled_train)\n",
    "DTC_prediction = model_DTC.predict(features_valid)\n",
    "\n",
    "rec_prec_f1_auc_roc(target_valid, DTC_prediction, features_valid, model_DTC)"
   ]
  },
  {
   "cell_type": "markdown",
   "metadata": {},
   "source": [
    "Логистическая регрессия"
   ]
  },
  {
   "cell_type": "code",
   "execution_count": 66,
   "metadata": {},
   "outputs": [
    {
     "name": "stdout",
     "output_type": "stream",
     "text": [
      "Полнота: 0.8090185676392573\n",
      "Точность: 0.35017221584385766\n",
      "F1-мера: 0.48878205128205127\n",
      "Auc_roc: 0.7786682914348089\n"
     ]
    }
   ],
   "source": [
    "#Обучим модель \"Логистическую регрессию\"\n",
    "#model_LgR = LogisticRegression(random_state=12345,\n",
    "#                               solver='liblinear')\n",
    "#model_LgR.fit(features_downsampled_train, target_downsampled_train)\n",
    "#LgR_prediction = model_LgR.predict(features_valid)\n",
    "#\n",
    "#rec_prec_f1_auc_roc(target_valid, LgR_prediction, features_valid, model_LgR)"
   ]
  },
  {
   "cell_type": "markdown",
   "metadata": {},
   "source": [
    "Вывод по результатам моделей с лучшими гиперпараметрами для уменьшенной выборки:"
   ]
  },
  {
   "cell_type": "markdown",
   "metadata": {},
   "source": [
    "Случайный лес:  \n",
    "Полнота: 0.8514588859416445  \n",
    "Точность: 0.43437077131258456  \n",
    "F1-мера: 0.575268817204301  \n",
    "Auc_roc: 0.8683109467526421    \n",
    "\n",
    "Дерево решений:  \n",
    "Полнота: 0.8541114058355438  \n",
    "Точность: 0.40401505646173147  \n",
    "F1-мера: 0.5485519591141397  \n",
    "Auc_roc: 0.8370393754705416   \n",
    "\n",
    "Логистическая регрессия:  \n",
    "Полнота: 0.8090185676392573  \n",
    "Точность: 0.35017221584385766  \n",
    "F1-мера: 0.48878205128205127  \n",
    "Auc_roc: 0.7786682914348089   "
   ]
  },
  {
   "cell_type": "markdown",
   "metadata": {},
   "source": [
    "<div class=\"alert alert-block alert-warning\">\n",
    "<b>Комментарий студента:</b> Наибольшее значение F1-метрики получено на модели \"Случайный лес\" при помощи увеличения выборки классов (применения функции upsample). Поэтому для тестирования будем использовать эту модель.\n",
    "</div>"
   ]
  },
  {
   "cell_type": "markdown",
   "metadata": {},
   "source": [
    "Вывод по шагу 3 \"Борьба с дисбалансом\":\n",
    "\n",
    "Уменьшая и увеличивая количество отрицательных и положительных ответов, соответственно, пришли к тому, для борьбы с дисбалансом увеличение положительных значений дало более сбалансированный ответ, наибольшее значение F1-метрики получено на модели \"Случайный лес\" при помощи увеличения выборки классов (применения функции upsample). Показаели всех моделей улучшились. Поэтому для тестирования будем использовать эту модель.\n",
    "\n",
    "На валидационной выборке RandomForestClassifier уже показывает резульаты F1-меры = 0.639, что выше целевого значения.\n",
    "Значение метрики AUC-ROC всегда стабильно выше F1-score и колеблется в районе 80%."
   ]
  },
  {
   "cell_type": "markdown",
   "metadata": {},
   "source": [
    "## Тестирование модели"
   ]
  },
  {
   "cell_type": "code",
   "execution_count": 67,
   "metadata": {},
   "outputs": [
    {
     "data": {
      "text/plain": [
       "RandomForestClassifier(max_depth=14, n_estimators=80, random_state=12345)"
      ]
     },
     "execution_count": 67,
     "metadata": {},
     "output_type": "execute_result"
    }
   ],
   "source": [
    "#Проверим модель с наилучшим значением f1-метрики\n",
    "#Ранее получили лучшие гиперпараметры для данной модели: Оптимальное количество оценок: 80; Оптимальная глубина дерева: 14\n",
    "#Применим их \n",
    "model_RFC_final = RandomForestClassifier(\n",
    "    bootstrap = True, max_depth= 14,  n_estimators = 80, random_state=12345)\n",
    "model_RFC_final.fit(features_train_upsampled, target_train_upsampled)"
   ]
  },
  {
   "cell_type": "code",
   "execution_count": 68,
   "metadata": {},
   "outputs": [
    {
     "name": "stdout",
     "output_type": "stream",
     "text": [
      "Полнота: 0.5954415954415955\n",
      "Точность: 0.6023054755043228\n",
      "F1-мера: 0.5988538681948424\n",
      "Auc_roc: 0.8522380586413283\n"
     ]
    }
   ],
   "source": [
    "model_RFC_final_prediction = model_RFC_final.predict(features_test)\n",
    "rec_prec_f1_auc_roc(target_test, model_RFC_final_prediction, features_test, model_RFC_final)"
   ]
  },
  {
   "cell_type": "markdown",
   "metadata": {},
   "source": [
    "<div class=\"alert alert-block alert-warning\">\n",
    "<b>Комментарий студента:</b> F1-мера: 0.5988538681948424, что больше 0.59.  \n",
    "</div>"
   ]
  },
  {
   "cell_type": "code",
   "execution_count": 69,
   "metadata": {},
   "outputs": [
    {
     "data": {
      "text/plain": [
       "0    1819\n",
       "dtype: int64"
      ]
     },
     "execution_count": 69,
     "metadata": {},
     "output_type": "execute_result"
    }
   ],
   "source": [
    "#Создадим константную модель\n",
    "target_predict_constant = pd.Series([0]*len(target_test))\n",
    "target_predict_constant.value_counts()"
   ]
  },
  {
   "cell_type": "code",
   "execution_count": 70,
   "metadata": {},
   "outputs": [
    {
     "data": {
      "text/plain": [
       "0    1818\n",
       "dtype: int64"
      ]
     },
     "execution_count": 70,
     "metadata": {},
     "output_type": "execute_result"
    }
   ],
   "source": [
    "target_predict_constant = target_predict_constant.drop(index=1818, axis=0)\n",
    "target_predict_constant.value_counts()"
   ]
  },
  {
   "cell_type": "code",
   "execution_count": 71,
   "metadata": {},
   "outputs": [
    {
     "name": "stdout",
     "output_type": "stream",
     "text": [
      "accuracy_score константой модели: 0.7926292629262927\n",
      "accuracy_score финальной модели: 0.8460692688290269\n",
      "AUC-ROC константой модели: 0.5\n",
      "AUC-ROC финальной модели: 0.7507180729251574\n",
      "F1-меру константой модели: 0.0\n",
      "F1-меру финальной модели: 0.5988538681948424\n"
     ]
    }
   ],
   "source": [
    "#Сравним показатель точности (accuracy_score) константной и финальной моделей\n",
    "print('accuracy_score константой модели:', accuracy_score(target_valid, target_predict_constant))\n",
    "print('accuracy_score финальной модели:', accuracy_score(target_test, model_RFC_final_prediction))\n",
    "#Сравним AUC-ROC\n",
    "print('AUC-ROC константой модели:', roc_auc_score(target_valid, target_predict_constant))\n",
    "print('AUC-ROC финальной модели:', roc_auc_score(target_test, model_RFC_final_prediction))\n",
    "#Сравним F1-меру\n",
    "print('F1-меру константой модели:', f1_score(target_valid, target_predict_constant))\n",
    "print('F1-меру финальной модели:', f1_score(target_test, model_RFC_final_prediction))"
   ]
  },
  {
   "cell_type": "markdown",
   "metadata": {},
   "source": [
    "Вывод по шагу 4 \"Тестирование модели\":  \n",
    "Финальная модель показывает результаты лучше, чем константная модель — модель можно считать адекватной."
   ]
  },
  {
   "cell_type": "markdown",
   "metadata": {},
   "source": [
    "Общие выводы по работе:  \n",
    "    \n",
    "- Загрузили данные, проверили на пропуски, где возможно было - заменили пропуски, проверили на дубликаты, проанализировали признаки, выявили те, которые не влияют на исследование и удалили их.  \n",
    "- Подготовили датафрейм для исследования. Был сформирован новый датафрейм.   \n",
    "- Сформируем выборки в следующем соотношении:  \n",
    "обучающая - 0.6, валидационная - 0.2, тестовая - 0.2.  \n",
    "- Масштабировали признаки всех трех выборок (Обучающей, валидационной и тестовой).  \n",
    "- Определили наличие дисбаланса. В исходных данных наблюдался значительный дисбаланс (около 80% ответов целевого признака были негативными и только около 20% - позитивными), из-за чего обученная на этих данных модель не проходила проверку на адекватность. Все модели с исходными данными характеризовались высокой степенью ошибок и низким качеством взвешенной величины (F1) — модели показывали низкие результаты точности и полноты.\n",
    "- Построили матрицы ошибок для моделей.  \n",
    "- Устранили дисбаланс классов в обучающей выборки методами upsampling и downsample — увеличили количество значений позитивного класса в 4 раза, и уменьшили количество значений негативного класса в 4 раза, соответственно. Тем самым достигли лучшего результата баланса классов в обучеющей выборке: 1 - 0.509964; 0 - 0.490036.\n",
    "- Разобрали несколько вариантов борьбы с дисбалансом upsampling и downsampling\n",
    "- На сбалансированной выборке все модели показали результат выше, чем на несбалансированной. Лучшие показатели были у модели случайного леса:  \n",
    "  - Полнота: 0.6259946949602122  \n",
    "  - Точность: 0.6537396121883656  \n",
    "  - F1-мера: 0.6395663956639566  \n",
    "  - Auc_roc: 0.8614035346070091  \n",
    "\n",
    "- Финальная модель прошла проверку на адекватность в сравнении с контантной моделью:\n",
    "\n",
    "  - accuracy_score константой модели: 0.7926292629262927  \n",
    "  - accuracy_score финальной модели: 0.8460692688290269  \n",
    "  - AUC-ROC константой модели: 0.5  \n",
    "  - AUC-ROC финальной модели: 0.7507180729251574  \n",
    "  - F1-меру константой модели: 0.0  \n",
    "  - F1-меру финальной модели: 0.5988538681948424  "
   ]
  },
  {
   "cell_type": "markdown",
   "metadata": {},
   "source": [
    "## Чек-лист готовности проекта"
   ]
  },
  {
   "cell_type": "markdown",
   "metadata": {},
   "source": [
    "Поставьте 'x' в выполненных пунктах. Далее нажмите Shift+Enter."
   ]
  },
  {
   "cell_type": "markdown",
   "metadata": {},
   "source": [
    "- [x]  Jupyter Notebook открыт\n",
    "- [x]  Весь код выполняется без ошибок\n",
    "- [x]  Ячейки с кодом расположены в порядке исполнения\n",
    "- [x]  Выполнен шаг 1: данные подготовлены\n",
    "- [x]  Выполнен шаг 2: задача исследована\n",
    "    - [x]  Исследован баланс классов\n",
    "    - [x]  Изучены модели без учёта дисбаланса\n",
    "    - [x]  Написаны выводы по результатам исследования\n",
    "- [x]  Выполнен шаг 3: учтён дисбаланс\n",
    "    - [x]  Применено несколько способов борьбы с дисбалансом\n",
    "    - [x]  Написаны выводы по результатам исследования\n",
    "- [x]  Выполнен шаг 4: проведено тестирование\n",
    "- [x]  Удалось достичь *F1*-меры не менее 0.59\n",
    "- [x]  Исследована метрика *AUC-ROC*"
   ]
  },
  {
   "cell_type": "code",
   "execution_count": null,
   "metadata": {},
   "outputs": [],
   "source": []
  }
 ],
 "metadata": {
  "ExecuteTimeLog": [
   {
    "duration": 1557,
    "start_time": "2023-06-23T14:10:54.303Z"
   },
   {
    "duration": 355,
    "start_time": "2023-06-23T14:11:11.781Z"
   },
   {
    "duration": 14,
    "start_time": "2023-06-23T14:12:36.468Z"
   },
   {
    "duration": 17,
    "start_time": "2023-06-26T11:56:53.166Z"
   },
   {
    "duration": 4,
    "start_time": "2023-06-26T12:30:41.356Z"
   },
   {
    "duration": 128,
    "start_time": "2023-06-26T12:48:39.328Z"
   },
   {
    "duration": 425,
    "start_time": "2023-06-26T12:49:11.614Z"
   },
   {
    "duration": 15,
    "start_time": "2023-06-26T12:51:26.017Z"
   },
   {
    "duration": 5,
    "start_time": "2023-06-26T13:00:48.222Z"
   },
   {
    "duration": 12,
    "start_time": "2023-06-26T13:07:25.335Z"
   },
   {
    "duration": 6,
    "start_time": "2023-06-26T13:11:51.215Z"
   },
   {
    "duration": 5,
    "start_time": "2023-06-26T13:12:21.621Z"
   },
   {
    "duration": 1544,
    "start_time": "2023-06-28T16:31:40.840Z"
   },
   {
    "duration": 265,
    "start_time": "2023-06-28T16:31:42.386Z"
   },
   {
    "duration": 20,
    "start_time": "2023-06-28T16:31:42.653Z"
   },
   {
    "duration": 23,
    "start_time": "2023-06-28T16:31:42.675Z"
   },
   {
    "duration": 10,
    "start_time": "2023-06-28T16:31:42.701Z"
   },
   {
    "duration": 17,
    "start_time": "2023-06-28T16:31:42.713Z"
   },
   {
    "duration": 13,
    "start_time": "2023-06-28T16:31:42.732Z"
   },
   {
    "duration": 29,
    "start_time": "2023-06-28T16:31:42.747Z"
   },
   {
    "duration": 19,
    "start_time": "2023-06-28T16:31:42.778Z"
   },
   {
    "duration": 1498,
    "start_time": "2023-06-28T19:35:04.255Z"
   },
   {
    "duration": 50,
    "start_time": "2023-06-28T19:35:05.755Z"
   },
   {
    "duration": 19,
    "start_time": "2023-06-28T19:35:05.808Z"
   },
   {
    "duration": 15,
    "start_time": "2023-06-28T19:35:05.829Z"
   },
   {
    "duration": 5,
    "start_time": "2023-06-28T19:35:05.846Z"
   },
   {
    "duration": 25,
    "start_time": "2023-06-28T19:35:05.874Z"
   },
   {
    "duration": 11,
    "start_time": "2023-06-28T19:35:05.901Z"
   },
   {
    "duration": 5,
    "start_time": "2023-06-28T19:35:05.914Z"
   },
   {
    "duration": 8,
    "start_time": "2023-06-28T19:35:05.920Z"
   },
   {
    "duration": 52,
    "start_time": "2023-06-28T19:35:05.930Z"
   },
   {
    "duration": 14,
    "start_time": "2023-06-28T19:35:58.893Z"
   },
   {
    "duration": 20,
    "start_time": "2023-06-28T19:41:07.723Z"
   },
   {
    "duration": 148,
    "start_time": "2023-06-28T19:42:01.059Z"
   },
   {
    "duration": 12,
    "start_time": "2023-06-28T19:45:17.307Z"
   },
   {
    "duration": 14,
    "start_time": "2023-06-28T19:46:02.313Z"
   },
   {
    "duration": 18,
    "start_time": "2023-06-28T19:47:02.805Z"
   },
   {
    "duration": 15,
    "start_time": "2023-06-28T19:49:16.802Z"
   },
   {
    "duration": 9,
    "start_time": "2023-06-28T19:50:29.369Z"
   },
   {
    "duration": 11,
    "start_time": "2023-06-28T20:21:26.833Z"
   },
   {
    "duration": 17,
    "start_time": "2023-06-28T20:24:12.172Z"
   },
   {
    "duration": 3,
    "start_time": "2023-06-28T20:25:09.713Z"
   },
   {
    "duration": 9,
    "start_time": "2023-06-28T20:25:27.700Z"
   },
   {
    "duration": 27,
    "start_time": "2023-06-28T20:25:55.881Z"
   },
   {
    "duration": 24,
    "start_time": "2023-06-28T20:26:56.669Z"
   },
   {
    "duration": 26,
    "start_time": "2023-06-28T20:27:30.698Z"
   },
   {
    "duration": 16,
    "start_time": "2023-06-28T20:27:31.623Z"
   },
   {
    "duration": 19,
    "start_time": "2023-06-28T20:27:55.516Z"
   },
   {
    "duration": 4,
    "start_time": "2023-06-28T20:30:30.925Z"
   },
   {
    "duration": 4,
    "start_time": "2023-06-28T20:30:39.843Z"
   },
   {
    "duration": 279,
    "start_time": "2023-06-28T20:31:03.190Z"
   },
   {
    "duration": 7,
    "start_time": "2023-06-28T20:32:55.342Z"
   },
   {
    "duration": 81,
    "start_time": "2023-06-28T20:33:30.892Z"
   },
   {
    "duration": 4,
    "start_time": "2023-06-28T20:37:50.595Z"
   },
   {
    "duration": 7,
    "start_time": "2023-06-28T20:38:42.072Z"
   },
   {
    "duration": 5,
    "start_time": "2023-06-28T20:39:34.004Z"
   },
   {
    "duration": 751,
    "start_time": "2023-06-28T20:40:06.421Z"
   },
   {
    "duration": 604,
    "start_time": "2023-06-28T21:02:41.168Z"
   },
   {
    "duration": 8,
    "start_time": "2023-06-28T21:03:17.152Z"
   },
   {
    "duration": 67,
    "start_time": "2023-06-28T21:04:07.438Z"
   },
   {
    "duration": 38,
    "start_time": "2023-06-28T21:08:33.573Z"
   },
   {
    "duration": 10,
    "start_time": "2023-06-28T21:10:26.726Z"
   },
   {
    "duration": 11,
    "start_time": "2023-06-28T21:10:53.829Z"
   },
   {
    "duration": 35,
    "start_time": "2023-06-28T21:13:06.724Z"
   },
   {
    "duration": 9,
    "start_time": "2023-06-28T21:13:46.542Z"
   },
   {
    "duration": 15,
    "start_time": "2023-06-28T21:14:17.220Z"
   },
   {
    "duration": 4,
    "start_time": "2023-06-28T21:16:22.846Z"
   },
   {
    "duration": 118,
    "start_time": "2023-06-28T21:16:45.593Z"
   },
   {
    "duration": 282,
    "start_time": "2023-06-28T21:17:40.617Z"
   },
   {
    "duration": 1390,
    "start_time": "2023-06-29T15:25:13.015Z"
   },
   {
    "duration": 41,
    "start_time": "2023-06-29T15:25:14.407Z"
   },
   {
    "duration": 16,
    "start_time": "2023-06-29T15:25:14.449Z"
   },
   {
    "duration": 30,
    "start_time": "2023-06-29T15:25:14.474Z"
   },
   {
    "duration": 6,
    "start_time": "2023-06-29T15:25:14.506Z"
   },
   {
    "duration": 28,
    "start_time": "2023-06-29T15:25:14.514Z"
   },
   {
    "duration": 12,
    "start_time": "2023-06-29T15:25:14.545Z"
   },
   {
    "duration": 7,
    "start_time": "2023-06-29T15:25:14.559Z"
   },
   {
    "duration": 20,
    "start_time": "2023-06-29T15:25:14.570Z"
   },
   {
    "duration": 19,
    "start_time": "2023-06-29T15:25:14.593Z"
   },
   {
    "duration": 28,
    "start_time": "2023-06-29T15:25:14.614Z"
   },
   {
    "duration": 17,
    "start_time": "2023-06-29T15:25:14.643Z"
   },
   {
    "duration": 30,
    "start_time": "2023-06-29T15:25:14.662Z"
   },
   {
    "duration": 14,
    "start_time": "2023-06-29T15:25:14.696Z"
   },
   {
    "duration": 13,
    "start_time": "2023-06-29T15:25:14.712Z"
   },
   {
    "duration": 22,
    "start_time": "2023-06-29T15:25:14.727Z"
   },
   {
    "duration": 46,
    "start_time": "2023-06-29T15:25:14.751Z"
   },
   {
    "duration": 15,
    "start_time": "2023-06-29T15:25:14.799Z"
   },
   {
    "duration": 19,
    "start_time": "2023-06-29T15:25:14.816Z"
   },
   {
    "duration": 16,
    "start_time": "2023-06-29T15:25:14.836Z"
   },
   {
    "duration": 326,
    "start_time": "2023-06-29T15:25:14.853Z"
   },
   {
    "duration": 89,
    "start_time": "2023-06-29T15:25:15.188Z"
   },
   {
    "duration": 86,
    "start_time": "2023-06-29T15:25:15.279Z"
   },
   {
    "duration": 13,
    "start_time": "2023-06-29T15:25:15.371Z"
   },
   {
    "duration": 48,
    "start_time": "2023-06-29T15:25:15.389Z"
   },
   {
    "duration": 773,
    "start_time": "2023-06-29T15:25:15.438Z"
   },
   {
    "duration": 812,
    "start_time": "2023-06-29T15:25:16.273Z"
   },
   {
    "duration": 11,
    "start_time": "2023-06-29T15:25:17.090Z"
   },
   {
    "duration": 68,
    "start_time": "2023-06-29T15:25:17.103Z"
   },
   {
    "duration": 42,
    "start_time": "2023-06-29T15:25:17.174Z"
   },
   {
    "duration": 8,
    "start_time": "2023-06-29T15:25:17.218Z"
   },
   {
    "duration": 8,
    "start_time": "2023-06-29T15:25:17.228Z"
   },
   {
    "duration": 69,
    "start_time": "2023-06-29T15:25:17.238Z"
   },
   {
    "duration": 88,
    "start_time": "2023-06-29T15:25:17.309Z"
   },
   {
    "duration": 14,
    "start_time": "2023-06-29T15:25:17.472Z"
   },
   {
    "duration": 8,
    "start_time": "2023-06-29T15:25:17.488Z"
   },
   {
    "duration": 300,
    "start_time": "2023-06-29T15:25:17.499Z"
   },
   {
    "duration": 301,
    "start_time": "2023-06-29T15:25:17.801Z"
   },
   {
    "duration": 5,
    "start_time": "2023-06-29T15:25:18.103Z"
   },
   {
    "duration": 15,
    "start_time": "2023-06-29T15:25:18.110Z"
   },
   {
    "duration": 9,
    "start_time": "2023-06-29T15:27:56.002Z"
   },
   {
    "duration": 28,
    "start_time": "2023-06-29T15:28:52.163Z"
   },
   {
    "duration": 8,
    "start_time": "2023-06-29T15:29:41.023Z"
   },
   {
    "duration": 13,
    "start_time": "2023-06-29T15:31:03.303Z"
   },
   {
    "duration": 24,
    "start_time": "2023-06-29T15:32:15.276Z"
   },
   {
    "duration": 94,
    "start_time": "2023-06-29T15:33:12.434Z"
   },
   {
    "duration": 125,
    "start_time": "2023-06-29T15:33:20.347Z"
   },
   {
    "duration": 326,
    "start_time": "2023-06-29T15:35:54.142Z"
   },
   {
    "duration": 339,
    "start_time": "2023-06-29T15:36:17.636Z"
   },
   {
    "duration": 48,
    "start_time": "2023-06-29T15:37:42.816Z"
   },
   {
    "duration": 8,
    "start_time": "2023-06-29T15:38:23.658Z"
   },
   {
    "duration": 269,
    "start_time": "2023-06-29T15:38:54.730Z"
   },
   {
    "duration": 280,
    "start_time": "2023-06-29T15:39:10.891Z"
   },
   {
    "duration": 278,
    "start_time": "2023-06-29T15:40:23.694Z"
   },
   {
    "duration": 22,
    "start_time": "2023-06-29T15:40:34.950Z"
   },
   {
    "duration": 193,
    "start_time": "2023-06-29T15:41:24.985Z"
   },
   {
    "duration": 12,
    "start_time": "2023-06-29T15:41:58.484Z"
   },
   {
    "duration": 305,
    "start_time": "2023-06-30T07:16:19.198Z"
   },
   {
    "duration": 23,
    "start_time": "2023-06-30T07:16:59.158Z"
   },
   {
    "duration": 21,
    "start_time": "2023-06-30T07:17:50.993Z"
   },
   {
    "duration": 234,
    "start_time": "2023-06-30T07:19:19.986Z"
   },
   {
    "duration": 22,
    "start_time": "2023-06-30T07:19:21.718Z"
   },
   {
    "duration": 21,
    "start_time": "2023-06-30T07:19:23.712Z"
   },
   {
    "duration": 6,
    "start_time": "2023-06-30T07:19:24.921Z"
   },
   {
    "duration": 8,
    "start_time": "2023-06-30T07:20:48.738Z"
   },
   {
    "duration": 1414,
    "start_time": "2023-06-30T07:42:43.211Z"
   },
   {
    "duration": 41,
    "start_time": "2023-06-30T07:42:44.627Z"
   },
   {
    "duration": 16,
    "start_time": "2023-06-30T07:42:44.670Z"
   },
   {
    "duration": 16,
    "start_time": "2023-06-30T07:42:44.689Z"
   },
   {
    "duration": 15,
    "start_time": "2023-06-30T07:42:44.707Z"
   },
   {
    "duration": 13,
    "start_time": "2023-06-30T07:42:44.724Z"
   },
   {
    "duration": 37,
    "start_time": "2023-06-30T07:42:44.739Z"
   },
   {
    "duration": 5,
    "start_time": "2023-06-30T07:42:44.777Z"
   },
   {
    "duration": 9,
    "start_time": "2023-06-30T07:42:44.784Z"
   },
   {
    "duration": 12,
    "start_time": "2023-06-30T07:42:44.795Z"
   },
   {
    "duration": 17,
    "start_time": "2023-06-30T07:42:44.809Z"
   },
   {
    "duration": 3,
    "start_time": "2023-06-30T07:42:44.828Z"
   },
   {
    "duration": 40,
    "start_time": "2023-06-30T07:42:44.833Z"
   },
   {
    "duration": 12,
    "start_time": "2023-06-30T07:42:44.875Z"
   },
   {
    "duration": 7,
    "start_time": "2023-06-30T07:42:44.889Z"
   },
   {
    "duration": 16,
    "start_time": "2023-06-30T07:42:44.898Z"
   },
   {
    "duration": 20,
    "start_time": "2023-06-30T07:42:44.916Z"
   },
   {
    "duration": 46,
    "start_time": "2023-06-30T07:42:44.938Z"
   },
   {
    "duration": 21,
    "start_time": "2023-06-30T07:42:44.986Z"
   },
   {
    "duration": 4,
    "start_time": "2023-06-30T07:42:45.008Z"
   },
   {
    "duration": 258,
    "start_time": "2023-06-30T07:42:45.014Z"
   },
   {
    "duration": 195,
    "start_time": "2023-06-30T07:42:45.274Z"
   },
   {
    "duration": 101,
    "start_time": "2023-06-30T07:42:45.472Z"
   },
   {
    "duration": 4,
    "start_time": "2023-06-30T07:42:45.575Z"
   },
   {
    "duration": 18,
    "start_time": "2023-06-30T07:42:45.581Z"
   },
   {
    "duration": 768,
    "start_time": "2023-06-30T07:42:45.601Z"
   },
   {
    "duration": 731,
    "start_time": "2023-06-30T07:42:46.372Z"
   },
   {
    "duration": 8,
    "start_time": "2023-06-30T07:42:47.106Z"
   },
   {
    "duration": 61,
    "start_time": "2023-06-30T07:42:47.115Z"
   },
   {
    "duration": 35,
    "start_time": "2023-06-30T07:42:47.177Z"
   },
   {
    "duration": 9,
    "start_time": "2023-06-30T07:42:47.214Z"
   },
   {
    "duration": 20,
    "start_time": "2023-06-30T07:42:47.224Z"
   },
   {
    "duration": 45,
    "start_time": "2023-06-30T07:42:47.246Z"
   },
   {
    "duration": 178,
    "start_time": "2023-06-30T07:42:47.293Z"
   },
   {
    "duration": 39,
    "start_time": "2023-06-30T07:42:47.473Z"
   },
   {
    "duration": 61,
    "start_time": "2023-06-30T07:42:47.514Z"
   },
   {
    "duration": 214,
    "start_time": "2023-06-30T07:42:47.578Z"
   },
   {
    "duration": 290,
    "start_time": "2023-06-30T07:42:47.794Z"
   },
   {
    "duration": 5,
    "start_time": "2023-06-30T07:42:48.086Z"
   },
   {
    "duration": 26,
    "start_time": "2023-06-30T07:42:48.092Z"
   },
   {
    "duration": 17,
    "start_time": "2023-06-30T07:42:48.120Z"
   },
   {
    "duration": 13,
    "start_time": "2023-06-30T07:42:48.138Z"
   },
   {
    "duration": 7,
    "start_time": "2023-06-30T07:42:48.153Z"
   },
   {
    "duration": 13,
    "start_time": "2023-06-30T07:42:48.162Z"
   },
   {
    "duration": 12,
    "start_time": "2023-06-30T07:42:48.177Z"
   },
   {
    "duration": 89,
    "start_time": "2023-06-30T07:42:48.190Z"
   },
   {
    "duration": 1590,
    "start_time": "2023-07-03T17:45:33.640Z"
   },
   {
    "duration": 373,
    "start_time": "2023-07-03T17:45:35.232Z"
   },
   {
    "duration": 29,
    "start_time": "2023-07-03T17:45:35.606Z"
   },
   {
    "duration": 14,
    "start_time": "2023-07-03T17:45:36.024Z"
   },
   {
    "duration": 9,
    "start_time": "2023-07-03T17:45:42.334Z"
   },
   {
    "duration": 174,
    "start_time": "2023-07-03T17:59:09.769Z"
   },
   {
    "duration": 16,
    "start_time": "2023-07-03T17:59:51.475Z"
   },
   {
    "duration": 12,
    "start_time": "2023-07-03T18:00:21.556Z"
   },
   {
    "duration": 5,
    "start_time": "2023-07-03T18:00:47.200Z"
   },
   {
    "duration": 4,
    "start_time": "2023-07-03T18:00:48.502Z"
   },
   {
    "duration": 19,
    "start_time": "2023-07-03T18:01:03.619Z"
   },
   {
    "duration": 23,
    "start_time": "2023-07-03T18:01:11.106Z"
   },
   {
    "duration": 4,
    "start_time": "2023-07-03T18:05:12.408Z"
   },
   {
    "duration": 12,
    "start_time": "2023-07-03T18:05:20.604Z"
   },
   {
    "duration": 4,
    "start_time": "2023-07-03T18:07:31.501Z"
   },
   {
    "duration": 5,
    "start_time": "2023-07-03T18:08:30.034Z"
   },
   {
    "duration": 5,
    "start_time": "2023-07-03T18:08:31.034Z"
   },
   {
    "duration": 4,
    "start_time": "2023-07-03T18:08:31.690Z"
   },
   {
    "duration": 12,
    "start_time": "2023-07-03T18:09:26.043Z"
   },
   {
    "duration": 3,
    "start_time": "2023-07-03T18:09:36.050Z"
   },
   {
    "duration": 9,
    "start_time": "2023-07-03T18:09:40.215Z"
   },
   {
    "duration": 22,
    "start_time": "2023-07-03T18:09:42.974Z"
   },
   {
    "duration": 18,
    "start_time": "2023-07-03T18:09:49.003Z"
   },
   {
    "duration": 29,
    "start_time": "2023-07-03T18:10:00.716Z"
   },
   {
    "duration": 9,
    "start_time": "2023-07-03T18:10:51.909Z"
   },
   {
    "duration": 250,
    "start_time": "2023-07-03T18:11:10.274Z"
   },
   {
    "duration": 194,
    "start_time": "2023-07-03T18:11:39.644Z"
   },
   {
    "duration": 114,
    "start_time": "2023-07-03T18:11:55.027Z"
   },
   {
    "duration": 73,
    "start_time": "2023-07-03T18:49:38.269Z"
   },
   {
    "duration": 18316,
    "start_time": "2023-07-03T18:50:13.361Z"
   },
   {
    "duration": 5,
    "start_time": "2023-07-03T18:51:44.989Z"
   },
   {
    "duration": 18692,
    "start_time": "2023-07-03T18:52:04.774Z"
   },
   {
    "duration": 47432,
    "start_time": "2023-07-03T18:53:55.247Z"
   },
   {
    "duration": 48444,
    "start_time": "2023-07-03T19:00:53.778Z"
   },
   {
    "duration": 135220,
    "start_time": "2023-07-03T19:07:59.460Z"
   },
   {
    "duration": 9,
    "start_time": "2023-07-03T19:15:27.369Z"
   },
   {
    "duration": 50816,
    "start_time": "2023-07-03T19:16:23.434Z"
   },
   {
    "duration": 50946,
    "start_time": "2023-07-03T19:17:28.491Z"
   },
   {
    "duration": 49897,
    "start_time": "2023-07-03T19:25:44.103Z"
   },
   {
    "duration": 754,
    "start_time": "2023-07-03T19:30:27.103Z"
   },
   {
    "duration": 12,
    "start_time": "2023-07-03T19:32:25.307Z"
   },
   {
    "duration": 4,
    "start_time": "2023-07-03T19:33:16.288Z"
   },
   {
    "duration": 11,
    "start_time": "2023-07-03T19:33:23.033Z"
   },
   {
    "duration": 3,
    "start_time": "2023-07-03T19:37:36.396Z"
   },
   {
    "duration": 52738,
    "start_time": "2023-07-03T19:37:42.565Z"
   },
   {
    "duration": 798,
    "start_time": "2023-07-03T19:38:40.731Z"
   },
   {
    "duration": 12,
    "start_time": "2023-07-03T19:38:41.550Z"
   },
   {
    "duration": 80,
    "start_time": "2023-07-03T19:38:47.959Z"
   },
   {
    "duration": 5,
    "start_time": "2023-07-03T19:41:22.709Z"
   },
   {
    "duration": 5,
    "start_time": "2023-07-03T19:41:32.082Z"
   },
   {
    "duration": 752,
    "start_time": "2023-07-03T19:41:37.086Z"
   },
   {
    "duration": 8,
    "start_time": "2023-07-03T19:42:31.111Z"
   },
   {
    "duration": 5,
    "start_time": "2023-07-03T19:42:37.138Z"
   },
   {
    "duration": 753,
    "start_time": "2023-07-03T19:42:38.488Z"
   },
   {
    "duration": 66,
    "start_time": "2023-07-03T19:43:41.511Z"
   },
   {
    "duration": 61,
    "start_time": "2023-07-03T19:52:45.435Z"
   },
   {
    "duration": 10,
    "start_time": "2023-07-03T19:55:50.678Z"
   },
   {
    "duration": 6,
    "start_time": "2023-07-03T19:56:38.036Z"
   },
   {
    "duration": 4,
    "start_time": "2023-07-03T19:58:32.455Z"
   },
   {
    "duration": 187,
    "start_time": "2023-07-03T19:59:06.327Z"
   },
   {
    "duration": 135,
    "start_time": "2023-07-03T20:21:39.963Z"
   },
   {
    "duration": 122,
    "start_time": "2023-07-03T20:22:18.082Z"
   },
   {
    "duration": 107,
    "start_time": "2023-07-03T20:22:38.659Z"
   },
   {
    "duration": 23,
    "start_time": "2023-07-03T20:25:07.427Z"
   },
   {
    "duration": 23,
    "start_time": "2023-07-03T20:25:57.602Z"
   },
   {
    "duration": 8,
    "start_time": "2023-07-03T20:28:27.262Z"
   },
   {
    "duration": 202,
    "start_time": "2023-07-03T20:30:40.249Z"
   },
   {
    "duration": 230,
    "start_time": "2023-07-03T20:30:59.404Z"
   },
   {
    "duration": 98,
    "start_time": "2023-07-03T20:34:59.835Z"
   },
   {
    "duration": 26,
    "start_time": "2023-07-03T20:37:36.177Z"
   },
   {
    "duration": 21,
    "start_time": "2023-07-03T20:37:47.143Z"
   },
   {
    "duration": 24,
    "start_time": "2023-07-03T20:38:20.408Z"
   },
   {
    "duration": 30,
    "start_time": "2023-07-03T20:40:18.385Z"
   },
   {
    "duration": 12,
    "start_time": "2023-07-03T20:40:39.576Z"
   },
   {
    "duration": 4,
    "start_time": "2023-07-03T20:40:41.304Z"
   },
   {
    "duration": 354,
    "start_time": "2023-07-03T20:40:47.179Z"
   },
   {
    "duration": 5,
    "start_time": "2023-07-03T20:43:24.026Z"
   },
   {
    "duration": 292,
    "start_time": "2023-07-03T20:43:25.697Z"
   },
   {
    "duration": 138,
    "start_time": "2023-07-03T20:47:07.068Z"
   },
   {
    "duration": 197,
    "start_time": "2023-07-03T20:47:59.021Z"
   },
   {
    "duration": 188,
    "start_time": "2023-07-03T20:52:18.264Z"
   },
   {
    "duration": 139,
    "start_time": "2023-07-03T20:54:04.938Z"
   },
   {
    "duration": 207,
    "start_time": "2023-07-03T20:54:28.360Z"
   },
   {
    "duration": 288,
    "start_time": "2023-07-03T20:54:46.646Z"
   },
   {
    "duration": 323,
    "start_time": "2023-07-03T20:56:23.792Z"
   },
   {
    "duration": 18,
    "start_time": "2023-07-04T08:08:11.750Z"
   },
   {
    "duration": 4,
    "start_time": "2023-07-04T08:08:23.171Z"
   },
   {
    "duration": 48,
    "start_time": "2023-07-04T08:08:24.590Z"
   },
   {
    "duration": 2077,
    "start_time": "2023-07-04T08:08:43.949Z"
   },
   {
    "duration": 90,
    "start_time": "2023-07-04T08:08:46.029Z"
   },
   {
    "duration": 19,
    "start_time": "2023-07-04T08:08:46.121Z"
   },
   {
    "duration": 18,
    "start_time": "2023-07-04T08:08:46.143Z"
   },
   {
    "duration": 8,
    "start_time": "2023-07-04T08:08:47.271Z"
   },
   {
    "duration": 25,
    "start_time": "2023-07-04T08:08:47.562Z"
   },
   {
    "duration": 17,
    "start_time": "2023-07-04T08:08:48.916Z"
   },
   {
    "duration": 6,
    "start_time": "2023-07-04T08:08:49.637Z"
   },
   {
    "duration": 6,
    "start_time": "2023-07-04T08:08:49.844Z"
   },
   {
    "duration": 15,
    "start_time": "2023-07-04T08:08:51.109Z"
   },
   {
    "duration": 31,
    "start_time": "2023-07-04T08:08:51.596Z"
   },
   {
    "duration": 5,
    "start_time": "2023-07-04T08:08:53.028Z"
   },
   {
    "duration": 13,
    "start_time": "2023-07-04T08:08:54.700Z"
   },
   {
    "duration": 12,
    "start_time": "2023-07-04T08:08:56.652Z"
   },
   {
    "duration": 5,
    "start_time": "2023-07-04T08:08:57.132Z"
   },
   {
    "duration": 6,
    "start_time": "2023-07-04T08:08:57.422Z"
   },
   {
    "duration": 16,
    "start_time": "2023-07-04T08:08:57.805Z"
   },
   {
    "duration": 3,
    "start_time": "2023-07-04T08:08:59.225Z"
   },
   {
    "duration": 16,
    "start_time": "2023-07-04T08:08:59.501Z"
   },
   {
    "duration": 28,
    "start_time": "2023-07-04T08:08:59.748Z"
   },
   {
    "duration": 26,
    "start_time": "2023-07-04T08:09:00.007Z"
   },
   {
    "duration": 28,
    "start_time": "2023-07-04T08:09:00.472Z"
   },
   {
    "duration": 7,
    "start_time": "2023-07-04T08:09:01.768Z"
   },
   {
    "duration": 387,
    "start_time": "2023-07-04T08:09:02.189Z"
   },
   {
    "duration": 7,
    "start_time": "2023-07-04T08:09:04.170Z"
   },
   {
    "duration": 176,
    "start_time": "2023-07-04T08:09:11.636Z"
   },
   {
    "duration": 5,
    "start_time": "2023-07-04T08:09:15.886Z"
   },
   {
    "duration": 7,
    "start_time": "2023-07-04T08:09:17.637Z"
   },
   {
    "duration": 1114,
    "start_time": "2023-07-04T08:09:18.237Z"
   },
   {
    "duration": 6,
    "start_time": "2023-07-04T08:09:19.354Z"
   },
   {
    "duration": 56635,
    "start_time": "2023-07-04T08:09:22.574Z"
   },
   {
    "duration": 735,
    "start_time": "2023-07-04T08:11:13.739Z"
   },
   {
    "duration": 65,
    "start_time": "2023-07-04T08:11:14.477Z"
   },
   {
    "duration": 196,
    "start_time": "2023-07-04T08:11:18.907Z"
   },
   {
    "duration": 196,
    "start_time": "2023-07-04T08:11:22.971Z"
   },
   {
    "duration": 110,
    "start_time": "2023-07-04T08:11:25.692Z"
   },
   {
    "duration": 25,
    "start_time": "2023-07-04T08:11:26.971Z"
   },
   {
    "duration": 15,
    "start_time": "2023-07-04T08:11:27.459Z"
   },
   {
    "duration": 176,
    "start_time": "2023-07-04T08:11:29.525Z"
   },
   {
    "duration": 162,
    "start_time": "2023-07-04T08:11:30.883Z"
   },
   {
    "duration": 27,
    "start_time": "2023-07-04T08:11:34.050Z"
   },
   {
    "duration": 20,
    "start_time": "2023-07-04T08:11:35.484Z"
   },
   {
    "duration": 330,
    "start_time": "2023-07-04T08:11:37.995Z"
   },
   {
    "duration": 356,
    "start_time": "2023-07-04T08:11:39.643Z"
   },
   {
    "duration": 8,
    "start_time": "2023-07-04T08:11:56.324Z"
   },
   {
    "duration": 7,
    "start_time": "2023-07-04T08:11:57.242Z"
   },
   {
    "duration": 16,
    "start_time": "2023-07-04T08:12:00.714Z"
   },
   {
    "duration": 24,
    "start_time": "2023-07-04T08:12:53.626Z"
   },
   {
    "duration": 10,
    "start_time": "2023-07-04T08:12:56.714Z"
   },
   {
    "duration": 19,
    "start_time": "2023-07-04T08:12:57.740Z"
   },
   {
    "duration": 15,
    "start_time": "2023-07-04T08:12:59.283Z"
   },
   {
    "duration": 187,
    "start_time": "2023-07-04T08:13:38.307Z"
   },
   {
    "duration": 126,
    "start_time": "2023-07-04T08:13:46.443Z"
   },
   {
    "duration": 19,
    "start_time": "2023-07-04T08:16:02.281Z"
   },
   {
    "duration": 164,
    "start_time": "2023-07-04T08:17:35.105Z"
   },
   {
    "duration": 295,
    "start_time": "2023-07-04T08:22:21.061Z"
   },
   {
    "duration": 333,
    "start_time": "2023-07-04T08:22:21.540Z"
   },
   {
    "duration": 181,
    "start_time": "2023-07-04T08:34:17.312Z"
   },
   {
    "duration": 209,
    "start_time": "2023-07-04T08:48:58.772Z"
   },
   {
    "duration": 73391,
    "start_time": "2023-07-04T08:57:37.294Z"
   },
   {
    "duration": 73217,
    "start_time": "2023-07-04T08:59:34.379Z"
   },
   {
    "duration": 81370,
    "start_time": "2023-07-04T09:01:43.530Z"
   },
   {
    "duration": 836,
    "start_time": "2023-07-04T09:06:30.929Z"
   },
   {
    "duration": 822,
    "start_time": "2023-07-04T09:06:55.581Z"
   },
   {
    "duration": 148,
    "start_time": "2023-07-04T09:48:45.715Z"
   },
   {
    "duration": 34,
    "start_time": "2023-07-04T09:50:45.824Z"
   },
   {
    "duration": 34,
    "start_time": "2023-07-04T10:14:15.420Z"
   },
   {
    "duration": 28667,
    "start_time": "2023-07-04T10:20:38.328Z"
   },
   {
    "duration": 27751,
    "start_time": "2023-07-04T10:21:55.217Z"
   },
   {
    "duration": 909,
    "start_time": "2023-07-04T10:23:25.483Z"
   },
   {
    "duration": 59,
    "start_time": "2023-07-04T10:25:01.000Z"
   },
   {
    "duration": 29,
    "start_time": "2023-07-04T10:26:11.671Z"
   },
   {
    "duration": 160,
    "start_time": "2023-07-04T10:27:20.421Z"
   },
   {
    "duration": 42,
    "start_time": "2023-07-04T10:27:54.646Z"
   },
   {
    "duration": 89,
    "start_time": "2023-07-04T10:30:02.069Z"
   },
   {
    "duration": 107,
    "start_time": "2023-07-04T10:37:22.104Z"
   },
   {
    "duration": 836,
    "start_time": "2023-07-04T12:03:00.595Z"
   },
   {
    "duration": 134,
    "start_time": "2023-07-04T12:03:02.633Z"
   },
   {
    "duration": 53,
    "start_time": "2023-07-04T12:03:30.593Z"
   },
   {
    "duration": 152,
    "start_time": "2023-07-04T12:04:08.242Z"
   },
   {
    "duration": 700,
    "start_time": "2023-07-04T12:06:06.122Z"
   },
   {
    "duration": 106,
    "start_time": "2023-07-04T12:06:09.032Z"
   },
   {
    "duration": 799,
    "start_time": "2023-07-04T12:06:20.920Z"
   },
   {
    "duration": 102,
    "start_time": "2023-07-04T12:06:22.712Z"
   },
   {
    "duration": 11,
    "start_time": "2023-07-04T12:11:51.945Z"
   },
   {
    "duration": 30,
    "start_time": "2023-07-04T12:11:58.741Z"
   },
   {
    "duration": 26,
    "start_time": "2023-07-04T12:13:33.600Z"
   },
   {
    "duration": 19,
    "start_time": "2023-07-04T12:13:53.308Z"
   },
   {
    "duration": 39,
    "start_time": "2023-07-04T12:21:48.651Z"
   },
   {
    "duration": 22,
    "start_time": "2023-07-04T12:23:22.070Z"
   },
   {
    "duration": 9,
    "start_time": "2023-07-04T12:23:54.116Z"
   },
   {
    "duration": 20,
    "start_time": "2023-07-04T12:24:02.423Z"
   },
   {
    "duration": 19,
    "start_time": "2023-07-04T12:24:58.623Z"
   },
   {
    "duration": 1771,
    "start_time": "2023-07-04T12:31:57.075Z"
   },
   {
    "duration": 70,
    "start_time": "2023-07-04T12:31:58.848Z"
   },
   {
    "duration": 19,
    "start_time": "2023-07-04T12:31:58.920Z"
   },
   {
    "duration": 21,
    "start_time": "2023-07-04T12:31:58.943Z"
   },
   {
    "duration": 25,
    "start_time": "2023-07-04T12:31:58.974Z"
   },
   {
    "duration": 25,
    "start_time": "2023-07-04T12:31:59.001Z"
   },
   {
    "duration": 19,
    "start_time": "2023-07-04T12:31:59.028Z"
   },
   {
    "duration": 23,
    "start_time": "2023-07-04T12:31:59.051Z"
   },
   {
    "duration": 21,
    "start_time": "2023-07-04T12:31:59.083Z"
   },
   {
    "duration": 20,
    "start_time": "2023-07-04T12:31:59.108Z"
   },
   {
    "duration": 33,
    "start_time": "2023-07-04T12:31:59.130Z"
   },
   {
    "duration": 4,
    "start_time": "2023-07-04T12:31:59.167Z"
   },
   {
    "duration": 38,
    "start_time": "2023-07-04T12:31:59.173Z"
   },
   {
    "duration": 5,
    "start_time": "2023-07-04T12:31:59.214Z"
   },
   {
    "duration": 9,
    "start_time": "2023-07-04T12:31:59.221Z"
   },
   {
    "duration": 8,
    "start_time": "2023-07-04T12:31:59.233Z"
   },
   {
    "duration": 57,
    "start_time": "2023-07-04T12:31:59.242Z"
   },
   {
    "duration": 4,
    "start_time": "2023-07-04T12:31:59.301Z"
   },
   {
    "duration": 28,
    "start_time": "2023-07-04T12:31:59.307Z"
   },
   {
    "duration": 43,
    "start_time": "2023-07-04T12:31:59.338Z"
   },
   {
    "duration": 49,
    "start_time": "2023-07-04T12:31:59.387Z"
   },
   {
    "duration": 27,
    "start_time": "2023-07-04T12:31:59.438Z"
   },
   {
    "duration": 8,
    "start_time": "2023-07-04T12:31:59.467Z"
   },
   {
    "duration": 382,
    "start_time": "2023-07-04T12:31:59.476Z"
   },
   {
    "duration": 19,
    "start_time": "2023-07-04T12:31:59.861Z"
   },
   {
    "duration": 256,
    "start_time": "2023-07-04T12:31:59.883Z"
   },
   {
    "duration": 4,
    "start_time": "2023-07-04T12:32:00.142Z"
   },
   {
    "duration": 62,
    "start_time": "2023-07-04T12:32:00.156Z"
   },
   {
    "duration": 942,
    "start_time": "2023-07-04T12:32:00.220Z"
   },
   {
    "duration": 7,
    "start_time": "2023-07-04T12:32:01.171Z"
   },
   {
    "duration": 56397,
    "start_time": "2023-07-04T12:32:01.181Z"
   },
   {
    "duration": 817,
    "start_time": "2023-07-04T12:32:57.580Z"
   },
   {
    "duration": 86,
    "start_time": "2023-07-04T12:32:58.399Z"
   },
   {
    "duration": 265,
    "start_time": "2023-07-04T12:32:58.490Z"
   },
   {
    "duration": 236,
    "start_time": "2023-07-04T12:32:58.760Z"
   },
   {
    "duration": 127,
    "start_time": "2023-07-04T12:32:58.998Z"
   },
   {
    "duration": 37,
    "start_time": "2023-07-04T12:32:59.127Z"
   },
   {
    "duration": 19,
    "start_time": "2023-07-04T12:32:59.165Z"
   },
   {
    "duration": 228,
    "start_time": "2023-07-04T12:32:59.190Z"
   },
   {
    "duration": 172,
    "start_time": "2023-07-04T12:32:59.421Z"
   },
   {
    "duration": 91,
    "start_time": "2023-07-04T12:32:59.595Z"
   },
   {
    "duration": 120,
    "start_time": "2023-07-04T12:32:59.688Z"
   },
   {
    "duration": 354,
    "start_time": "2023-07-04T12:32:59.861Z"
   },
   {
    "duration": 300,
    "start_time": "2023-07-04T12:33:00.216Z"
   },
   {
    "duration": 11,
    "start_time": "2023-07-04T12:33:00.519Z"
   },
   {
    "duration": 71,
    "start_time": "2023-07-04T12:33:00.532Z"
   },
   {
    "duration": 44,
    "start_time": "2023-07-04T12:33:00.606Z"
   },
   {
    "duration": 59,
    "start_time": "2023-07-04T12:33:00.652Z"
   },
   {
    "duration": 20,
    "start_time": "2023-07-04T12:33:00.714Z"
   },
   {
    "duration": 72,
    "start_time": "2023-07-04T12:33:00.736Z"
   },
   {
    "duration": 188,
    "start_time": "2023-07-04T12:33:00.811Z"
   },
   {
    "duration": 18,
    "start_time": "2023-07-04T12:33:01.001Z"
   },
   {
    "duration": 265,
    "start_time": "2023-07-04T12:33:01.021Z"
   },
   {
    "duration": 308,
    "start_time": "2023-07-04T12:33:01.290Z"
   },
   {
    "duration": 515,
    "start_time": "2023-07-04T12:33:01.601Z"
   },
   {
    "duration": 294,
    "start_time": "2023-07-04T12:33:02.165Z"
   },
   {
    "duration": 75521,
    "start_time": "2023-07-04T12:33:02.462Z"
   },
   {
    "duration": 1002,
    "start_time": "2023-07-04T12:34:17.989Z"
   },
   {
    "duration": 215,
    "start_time": "2023-07-04T12:34:18.993Z"
   },
   {
    "duration": 33,
    "start_time": "2023-07-04T12:34:19.211Z"
   },
   {
    "duration": 156,
    "start_time": "2023-07-04T12:34:19.246Z"
   },
   {
    "duration": 31726,
    "start_time": "2023-07-04T12:34:19.463Z"
   },
   {
    "duration": 907,
    "start_time": "2023-07-04T12:34:51.191Z"
   },
   {
    "duration": 77,
    "start_time": "2023-07-04T12:34:52.104Z"
   },
   {
    "duration": 27,
    "start_time": "2023-07-04T12:34:52.183Z"
   },
   {
    "duration": 57,
    "start_time": "2023-07-04T12:34:52.212Z"
   },
   {
    "duration": 993,
    "start_time": "2023-07-04T12:34:52.271Z"
   },
   {
    "duration": 114,
    "start_time": "2023-07-04T12:34:53.270Z"
   },
   {
    "duration": 24,
    "start_time": "2023-07-04T12:34:53.392Z"
   },
   {
    "duration": 41,
    "start_time": "2023-07-04T12:34:53.419Z"
   },
   {
    "duration": 54,
    "start_time": "2023-07-04T12:34:53.466Z"
   }
  ],
  "kernelspec": {
   "display_name": "Python 3 (ipykernel)",
   "language": "python",
   "name": "python3"
  },
  "language_info": {
   "codemirror_mode": {
    "name": "ipython",
    "version": 3
   },
   "file_extension": ".py",
   "mimetype": "text/x-python",
   "name": "python",
   "nbconvert_exporter": "python",
   "pygments_lexer": "ipython3",
   "version": "3.9.13"
  },
  "toc": {
   "base_numbering": 1,
   "nav_menu": {},
   "number_sections": true,
   "sideBar": true,
   "skip_h1_title": true,
   "title_cell": "Содержание",
   "title_sidebar": "Contents",
   "toc_cell": true,
   "toc_position": {
    "height": "calc(100% - 180px)",
    "left": "10px",
    "top": "150px",
    "width": "165px"
   },
   "toc_section_display": true,
   "toc_window_display": true
  }
 },
 "nbformat": 4,
 "nbformat_minor": 2
}
